{
 "cells": [
  {
   "cell_type": "markdown",
   "id": "66a83596",
   "metadata": {
    "id": "JYu8aXQzonA6",
    "papermill": {
     "duration": 0.01815,
     "end_time": "2022-09-29T04:18:41.355671",
     "exception": false,
     "start_time": "2022-09-29T04:18:41.337521",
     "status": "completed"
    },
    "tags": []
   },
   "source": [
    "# **Assignment 1 - Language Models**\n",
    "#### **Due: September 27 (Tuesday), 2022**"
   ]
  },
  {
   "cell_type": "markdown",
   "id": "ede10926",
   "metadata": {
    "id": "_6heZKTDpBqd",
    "papermill": {
     "duration": 0.013793,
     "end_time": "2022-09-29T04:18:41.387165",
     "exception": false,
     "start_time": "2022-09-29T04:18:41.373372",
     "status": "completed"
    },
    "tags": []
   },
   "source": [
    "## **Notes**\n",
    "\n",
    "### **Introduction**\n",
    "\n",
    "Welcome to CSE 527A. The goal for the first assignment is to make sure you are familiar with all the tools you need to complete the programming assignments for the course. \n",
    "\n",
    "Each assignment contains two parts: a written and coding portion. The coding portion for each homework assignment will be delivered through a Colaboratory notebook such as this one. Please use as many as code and markdown cells to run and explain all the steps you took in order to answer each question.\n",
    "\n",
    "### **Comments/Documentation**\n",
    "\n",
    "Please follow PEP 8 style guidelines (https://peps.python.org/pep-0008/) for commenting your code. Furthermore, please remember to manually save your work once in a while. If you are connected to a hosted runtime that if for whatever reason it disconnects you will have to rerun all connected code cells.\n",
    "\n",
    "### **Getting Started**\n",
    "\n",
    "In order to compile code efficiently please pay attention to if you are using a hardware accelerator or not. If you are directly calling libraries like Tensorflow, Keras, or Pytorch, it is advised to switch to a GPU.\n",
    "\n",
    "To access a GPU, go to `Edit->Notebook settings` and in the `Hardware accelerator` dropdown choose `GPU`. \n",
    "As soon as you run a code cell, you will be connected to a cloud instance with a GPU.\n",
    "Try running the code cell below to check that a GPU is connected (select the cell then either click the play button at the top left or press `Ctrl+Enter` or `Shift+Enter`).\n",
    "\n",
    "The free version of Google Colab will provide the necessary hardware for this course. Please keep in mind the RAM and Disk Space that you are allocated and that you are not given an infinite active runtime.\n",
    "\n",
    "If your local machine has a GPU that you find outperforms the cloud GPU then you can follow the necessary documentation to use a GPU with your environment.\n",
    "\n",
    "### **Lost GPU/TPU Access on Colab**\n",
    "\n",
    "If you are not allocated a GPU or cannot connect to a GPU (limits are reached for Collab), Kaggle also provides free access to GPUs and TPUs. Please transfer your work to a Kaggle runtime instance by downloading your file on Colab as a '.ipynb' file and importing the file into Kaggle.\n",
    "\n",
    "### **Submission Instructions**\n",
    "\n",
    "We will use Gradescope for assignment submission. You can upload files individually or as part of a zip file, but if using a zip file be sure you are zipping the files directly and not a folder that contains them. Please note if designated output is cleared, you will receive a 0.\n",
    "\n",
    "To download this notebook, go to `File->Download .ipynb`.  Please rename the file to match the name in our file list. \n",
    "\n",
    "When submitting your ipython notebooks, make sure everything runs correctly if the cells are executed in order starting from a fresh session.  Note that just because a cell runs in your current session doesn't mean it doesn't rely on code that you have already changed or deleted.  If the code doesn't take too long to run, we recommend re-running everything with `Runtime->Restart and run all...`.\n",
    "\n",
    "When you upload your submission to the Gradescope assignment, you should get immediate feedback that confirms your submission was processed correctly. Note that Gradesope will allow you to submit multiple times before the deadline, and we will use the latest submission for grading."
   ]
  },
  {
   "cell_type": "markdown",
   "id": "03ea818d",
   "metadata": {
    "id": "EKiZhHZxDynm",
    "papermill": {
     "duration": 0.010721,
     "end_time": "2022-09-29T04:18:41.412711",
     "exception": false,
     "start_time": "2022-09-29T04:18:41.401990",
     "status": "completed"
    },
    "tags": []
   },
   "source": [
    "## **Setup**"
   ]
  },
  {
   "cell_type": "code",
   "execution_count": 1,
   "id": "c3cacc0b",
   "metadata": {
    "execution": {
     "iopub.execute_input": "2022-09-29T04:18:41.436288Z",
     "iopub.status.busy": "2022-09-29T04:18:41.435766Z",
     "iopub.status.idle": "2022-09-29T04:18:42.397451Z",
     "shell.execute_reply": "2022-09-29T04:18:42.396266Z"
    },
    "id": "GR_t_TmDD2cq",
    "outputId": "ef3ff4d8-aed5-4bec-8345-d3ecb7bac868",
    "papermill": {
     "duration": 0.976342,
     "end_time": "2022-09-29T04:18:42.399965",
     "exception": false,
     "start_time": "2022-09-29T04:18:41.423623",
     "status": "completed"
    },
    "tags": []
   },
   "outputs": [
    {
     "name": "stdout",
     "output_type": "stream",
     "text": [
      "GPU 0: Tesla P100-PCIE-16GB (UUID: GPU-35eed1fb-7762-c2be-cd6a-7556b93b5b33)\r\n"
     ]
    }
   ],
   "source": [
    "'''\n",
    "from google.colab import drive # one option to load datasets\n",
    "from google.colab import files\n",
    "drive.mount('/content/gdrive')\n",
    "'''\n",
    "!nvidia-smi -L # check if using GPU\n"
   ]
  },
  {
   "cell_type": "markdown",
   "id": "4fbef9b5",
   "metadata": {
    "id": "SAXOJeg2s-CE",
    "papermill": {
     "duration": 0.010711,
     "end_time": "2022-09-29T04:18:42.421861",
     "exception": false,
     "start_time": "2022-09-29T04:18:42.411150",
     "status": "completed"
    },
    "tags": []
   },
   "source": [
    "## **Problem 1**"
   ]
  },
  {
   "cell_type": "markdown",
   "id": "faec6108",
   "metadata": {
    "id": "VIYVOS5YUBFA",
    "papermill": {
     "duration": 0.010699,
     "end_time": "2022-09-29T04:18:42.443356",
     "exception": false,
     "start_time": "2022-09-29T04:18:42.432657",
     "status": "completed"
    },
    "tags": []
   },
   "source": [
    "## **1.1**\n",
    "\n",
    "Write a program to compute unsmoothed unigrams, bigrams, and trigrams (you may not import nltk)."
   ]
  },
  {
   "cell_type": "code",
   "execution_count": 2,
   "id": "77293222",
   "metadata": {
    "execution": {
     "iopub.execute_input": "2022-09-29T04:18:42.466501Z",
     "iopub.status.busy": "2022-09-29T04:18:42.466167Z",
     "iopub.status.idle": "2022-09-29T04:18:42.476501Z",
     "shell.execute_reply": "2022-09-29T04:18:42.475095Z"
    },
    "id": "pjOb6PN5UO3h",
    "outputId": "73569322-7c4d-4061-86ca-f13fa0f45335",
    "papermill": {
     "duration": 0.024388,
     "end_time": "2022-09-29T04:18:42.478440",
     "exception": false,
     "start_time": "2022-09-29T04:18:42.454052",
     "status": "completed"
    },
    "tags": []
   },
   "outputs": [
    {
     "name": "stdout",
     "output_type": "stream",
     "text": [
      "unigrams= {'asdf.g': 1, 'hjk': 1, 'hohoh': 1}\n",
      "bigrams= {('Valkyria', 'Chronicles'): 1, ('Chronicles', 'III'): 1, ('III', 'Senjō'): 1, ('Senjō', 'no'): 1, ('no', 'Valkyria'): 1, ('Valkyria', '3'): 1, ('3', 'Chronicles'): 1, ('Chronicles', 'Japanese'): 1, ('Japanese', '戦場のヴァルキュリア3'): 1, ('戦場のヴァルキュリア3', 'lit'): 1, ('lit', 'Valkyria'): 1, ('Valkyria', 'of'): 1, ('of', 'the'): 1}\n",
      "trigrams= {('asdf.g', 'hjk', 'hohoh'): 1}\n"
     ]
    }
   ],
   "source": [
    "## your code here\n",
    "import time\n",
    "\n",
    "def ngram(n,text): #generic N gram\n",
    "  text = text.split()\n",
    "  ngrams = {}\n",
    "  # generate ngram by sliding window\n",
    "  i,j = 0,n\n",
    "  while j <= len(text):\n",
    "    if n==1:\n",
    "      ngrams[text[i]] = ngrams.get(text[i],0)+1\n",
    "    else:\n",
    "      ngrams[tuple(text[i:j])] = ngrams.get(tuple(text[i:j]),0)+1\n",
    "    i+=1\n",
    "\n",
    "    j+=1\n",
    "  return ngrams\n",
    "\n",
    "def unigram(text):\n",
    "  return ngram(1,text)\n",
    "\n",
    "def bigram(text):\n",
    "  return ngram(2,text)\n",
    "\n",
    "def trigram(text):\n",
    "  return ngram(3,text)\n",
    "\n",
    "\n",
    "## test the above code\n",
    "print('unigrams=',unigram('asdf.g hjk hohoh'))\n",
    "#print('unigrams=',unigram('a'))\n",
    "print('bigrams=',bigram(('Valkyria Chronicles III Senjō no Valkyria 3   Chronicles  Japanese  戦場のヴァルキュリア3  lit  Valkyria of the')))\n",
    "#print('bigrams=',bigram(('a')))\n",
    "print('trigrams=',trigram(('asdf.g hjk hohoh')))\n"
   ]
  },
  {
   "cell_type": "markdown",
   "id": "c987f255",
   "metadata": {
    "papermill": {
     "duration": 0.011485,
     "end_time": "2022-09-29T04:18:42.500655",
     "exception": false,
     "start_time": "2022-09-29T04:18:42.489170",
     "status": "completed"
    },
    "tags": []
   },
   "source": [
    "The above function calculates different ngrams with frequency. It will be used in the following sections"
   ]
  },
  {
   "cell_type": "markdown",
   "id": "b032e002",
   "metadata": {
    "id": "nW1mvZAiUEAq",
    "papermill": {
     "duration": 0.010373,
     "end_time": "2022-09-29T04:18:42.522165",
     "exception": false,
     "start_time": "2022-09-29T04:18:42.511792",
     "status": "completed"
    },
    "tags": []
   },
   "source": [
    "## **1.2**\n",
    "\n",
    "Train your model on the Wikitext-2-v1 training corpus (https://huggingface.co/datasets/wikitext). Explain the differences between your most common unigrams, bigrams, trigrams (pad beginning and end of your sentences and please remove puncutation and unknown tokens from corpus).\n"
   ]
  },
  {
   "cell_type": "code",
   "execution_count": 3,
   "id": "760314c3",
   "metadata": {
    "execution": {
     "iopub.execute_input": "2022-09-29T04:18:42.547934Z",
     "iopub.status.busy": "2022-09-29T04:18:42.546316Z",
     "iopub.status.idle": "2022-09-29T04:18:53.049967Z",
     "shell.execute_reply": "2022-09-29T04:18:53.048811Z"
    },
    "id": "klAE9P8BPntp",
    "outputId": "83acf472-c434-47e6-c142-80054bfc8cc9",
    "papermill": {
     "duration": 10.518144,
     "end_time": "2022-09-29T04:18:53.052466",
     "exception": false,
     "start_time": "2022-09-29T04:18:42.534322",
     "status": "completed"
    },
    "tags": []
   },
   "outputs": [
    {
     "name": "stdout",
     "output_type": "stream",
     "text": [
      "Requirement already satisfied: datasets in /opt/conda/lib/python3.7/site-packages (2.1.0)\r\n",
      "Requirement already satisfied: huggingface-hub<1.0.0,>=0.1.0 in /opt/conda/lib/python3.7/site-packages (from datasets) (0.8.1)\r\n",
      "Requirement already satisfied: dill in /opt/conda/lib/python3.7/site-packages (from datasets) (0.3.5.1)\r\n",
      "Requirement already satisfied: pyarrow>=5.0.0 in /opt/conda/lib/python3.7/site-packages (from datasets) (5.0.0)\r\n",
      "Requirement already satisfied: pandas in /opt/conda/lib/python3.7/site-packages (from datasets) (1.3.5)\r\n",
      "Requirement already satisfied: xxhash in /opt/conda/lib/python3.7/site-packages (from datasets) (3.0.0)\r\n",
      "Requirement already satisfied: multiprocess in /opt/conda/lib/python3.7/site-packages (from datasets) (0.70.13)\r\n",
      "Requirement already satisfied: aiohttp in /opt/conda/lib/python3.7/site-packages (from datasets) (3.8.1)\r\n",
      "Requirement already satisfied: importlib-metadata in /opt/conda/lib/python3.7/site-packages (from datasets) (4.12.0)\r\n",
      "Requirement already satisfied: fsspec[http]>=2021.05.0 in /opt/conda/lib/python3.7/site-packages (from datasets) (2022.8.2)\r\n",
      "Requirement already satisfied: responses<0.19 in /opt/conda/lib/python3.7/site-packages (from datasets) (0.18.0)\r\n",
      "Requirement already satisfied: tqdm>=4.62.1 in /opt/conda/lib/python3.7/site-packages (from datasets) (4.64.0)\r\n",
      "Requirement already satisfied: packaging in /opt/conda/lib/python3.7/site-packages (from datasets) (21.3)\r\n",
      "Requirement already satisfied: requests>=2.19.0 in /opt/conda/lib/python3.7/site-packages (from datasets) (2.28.1)\r\n",
      "Requirement already satisfied: numpy>=1.17 in /opt/conda/lib/python3.7/site-packages (from datasets) (1.21.6)\r\n",
      "Requirement already satisfied: asynctest==0.13.0 in /opt/conda/lib/python3.7/site-packages (from aiohttp->datasets) (0.13.0)\r\n",
      "Requirement already satisfied: charset-normalizer<3.0,>=2.0 in /opt/conda/lib/python3.7/site-packages (from aiohttp->datasets) (2.1.0)\r\n",
      "Requirement already satisfied: multidict<7.0,>=4.5 in /opt/conda/lib/python3.7/site-packages (from aiohttp->datasets) (6.0.2)\r\n",
      "Requirement already satisfied: async-timeout<5.0,>=4.0.0a3 in /opt/conda/lib/python3.7/site-packages (from aiohttp->datasets) (4.0.2)\r\n",
      "Requirement already satisfied: yarl<2.0,>=1.0 in /opt/conda/lib/python3.7/site-packages (from aiohttp->datasets) (1.7.2)\r\n",
      "Requirement already satisfied: typing-extensions>=3.7.4 in /opt/conda/lib/python3.7/site-packages (from aiohttp->datasets) (4.3.0)\r\n",
      "Requirement already satisfied: aiosignal>=1.1.2 in /opt/conda/lib/python3.7/site-packages (from aiohttp->datasets) (1.2.0)\r\n",
      "Requirement already satisfied: frozenlist>=1.1.1 in /opt/conda/lib/python3.7/site-packages (from aiohttp->datasets) (1.3.0)\r\n",
      "Requirement already satisfied: attrs>=17.3.0 in /opt/conda/lib/python3.7/site-packages (from aiohttp->datasets) (21.4.0)\r\n",
      "Requirement already satisfied: filelock in /opt/conda/lib/python3.7/site-packages (from huggingface-hub<1.0.0,>=0.1.0->datasets) (3.7.1)\r\n",
      "Requirement already satisfied: pyyaml>=5.1 in /opt/conda/lib/python3.7/site-packages (from huggingface-hub<1.0.0,>=0.1.0->datasets) (6.0)\r\n",
      "Requirement already satisfied: pyparsing!=3.0.5,>=2.0.2 in /opt/conda/lib/python3.7/site-packages (from packaging->datasets) (3.0.9)\r\n",
      "Requirement already satisfied: urllib3<1.27,>=1.21.1 in /opt/conda/lib/python3.7/site-packages (from requests>=2.19.0->datasets) (1.26.12)\r\n",
      "Requirement already satisfied: certifi>=2017.4.17 in /opt/conda/lib/python3.7/site-packages (from requests>=2.19.0->datasets) (2022.6.15.2)\r\n",
      "Requirement already satisfied: idna<4,>=2.5 in /opt/conda/lib/python3.7/site-packages (from requests>=2.19.0->datasets) (3.3)\r\n",
      "Requirement already satisfied: zipp>=0.5 in /opt/conda/lib/python3.7/site-packages (from importlib-metadata->datasets) (3.8.0)\r\n",
      "Requirement already satisfied: python-dateutil>=2.7.3 in /opt/conda/lib/python3.7/site-packages (from pandas->datasets) (2.8.2)\r\n",
      "Requirement already satisfied: pytz>=2017.3 in /opt/conda/lib/python3.7/site-packages (from pandas->datasets) (2022.1)\r\n",
      "Requirement already satisfied: six>=1.5 in /opt/conda/lib/python3.7/site-packages (from python-dateutil>=2.7.3->pandas->datasets) (1.15.0)\r\n",
      "\u001b[33mWARNING: Running pip as the 'root' user can result in broken permissions and conflicting behaviour with the system package manager. It is recommended to use a virtual environment instead: https://pip.pypa.io/warnings/venv\u001b[0m\u001b[33m\r\n",
      "\u001b[0m"
     ]
    }
   ],
   "source": [
    "## your code here\n",
    "\n",
    "#install datasets if necessary\n",
    "!pip install datasets"
   ]
  },
  {
   "cell_type": "code",
   "execution_count": 4,
   "id": "66d4f328",
   "metadata": {
    "execution": {
     "iopub.execute_input": "2022-09-29T04:18:53.075849Z",
     "iopub.status.busy": "2022-09-29T04:18:53.075519Z",
     "iopub.status.idle": "2022-09-29T04:18:55.864767Z",
     "shell.execute_reply": "2022-09-29T04:18:55.863034Z"
    },
    "id": "gkheb8MSUPou",
    "outputId": "9a824def-bd53-4482-948a-a457c378c6ba",
    "papermill": {
     "duration": 2.806757,
     "end_time": "2022-09-29T04:18:55.870323",
     "exception": false,
     "start_time": "2022-09-29T04:18:53.063566",
     "status": "completed"
    },
    "tags": []
   },
   "outputs": [
    {
     "data": {
      "application/vnd.jupyter.widget-view+json": {
       "model_id": "57ec6c90b62644b798ecab0fafd67036",
       "version_major": 2,
       "version_minor": 0
      },
      "text/plain": [
       "Downloading builder script:   0%|          | 0.00/2.03k [00:00<?, ?B/s]"
      ]
     },
     "metadata": {},
     "output_type": "display_data"
    },
    {
     "data": {
      "application/vnd.jupyter.widget-view+json": {
       "model_id": "c96e4d82839f4d7ab46d96ac51543cb5",
       "version_major": 2,
       "version_minor": 0
      },
      "text/plain": [
       "Downloading metadata:   0%|          | 0.00/1.25k [00:00<?, ?B/s]"
      ]
     },
     "metadata": {},
     "output_type": "display_data"
    },
    {
     "name": "stdout",
     "output_type": "stream",
     "text": [
      "Downloading and preparing dataset wikitext/wikitext-2-v1 (download: 4.27 MiB, generated: 12.71 MiB, post-processed: Unknown size, total: 16.97 MiB) to /root/.cache/huggingface/datasets/wikitext/wikitext-2-v1/1.0.0/a241db52902eaf2c6aa732210bead40c090019a499ceb13bcbfa3f8ab646a126...\n"
     ]
    },
    {
     "data": {
      "application/vnd.jupyter.widget-view+json": {
       "model_id": "f4f635e0dd6749aa9208d5c7271afc30",
       "version_major": 2,
       "version_minor": 0
      },
      "text/plain": [
       "Downloading data:   0%|          | 0.00/4.48M [00:00<?, ?B/s]"
      ]
     },
     "metadata": {},
     "output_type": "display_data"
    },
    {
     "data": {
      "application/vnd.jupyter.widget-view+json": {
       "model_id": "75e7676252fa40e4ad9c59bf9e0d6d64",
       "version_major": 2,
       "version_minor": 0
      },
      "text/plain": [
       "Generating test split:   0%|          | 0/4358 [00:00<?, ? examples/s]"
      ]
     },
     "metadata": {},
     "output_type": "display_data"
    },
    {
     "data": {
      "application/vnd.jupyter.widget-view+json": {
       "model_id": "0f578109c17b49b9888fed7af6baa73e",
       "version_major": 2,
       "version_minor": 0
      },
      "text/plain": [
       "Generating train split:   0%|          | 0/36718 [00:00<?, ? examples/s]"
      ]
     },
     "metadata": {},
     "output_type": "display_data"
    },
    {
     "data": {
      "application/vnd.jupyter.widget-view+json": {
       "model_id": "a3435bd8deb146a697bb8b432deba77f",
       "version_major": 2,
       "version_minor": 0
      },
      "text/plain": [
       "Generating validation split:   0%|          | 0/3760 [00:00<?, ? examples/s]"
      ]
     },
     "metadata": {},
     "output_type": "display_data"
    },
    {
     "name": "stdout",
     "output_type": "stream",
     "text": [
      "Dataset wikitext downloaded and prepared to /root/.cache/huggingface/datasets/wikitext/wikitext-2-v1/1.0.0/a241db52902eaf2c6aa732210bead40c090019a499ceb13bcbfa3f8ab646a126. Subsequent calls will reuse this data.\n"
     ]
    },
    {
     "data": {
      "application/vnd.jupyter.widget-view+json": {
       "model_id": "e10966bfc83e4c59a219ce0e13acff49",
       "version_major": 2,
       "version_minor": 0
      },
      "text/plain": [
       "  0%|          | 0/3 [00:00<?, ?it/s]"
      ]
     },
     "metadata": {},
     "output_type": "display_data"
    }
   ],
   "source": [
    "\n",
    "from datasets import load_dataset\n",
    "dataset = load_dataset('wikitext', 'wikitext-2-v1', split =['train','validation','test'])"
   ]
  },
  {
   "cell_type": "markdown",
   "id": "4e276f76",
   "metadata": {
    "papermill": {
     "duration": 0.012119,
     "end_time": "2022-09-29T04:18:55.894779",
     "exception": false,
     "start_time": "2022-09-29T04:18:55.882660",
     "status": "completed"
    },
    "tags": []
   },
   "source": [
    "Below function remove the punctuation and unknown tokens from the dataset."
   ]
  },
  {
   "cell_type": "code",
   "execution_count": 5,
   "id": "fb4b81ee",
   "metadata": {
    "execution": {
     "iopub.execute_input": "2022-09-29T04:18:55.920955Z",
     "iopub.status.busy": "2022-09-29T04:18:55.919939Z",
     "iopub.status.idle": "2022-09-29T04:18:58.432277Z",
     "shell.execute_reply": "2022-09-29T04:18:58.431313Z"
    },
    "id": "ytoZ5mPiQAyr",
    "papermill": {
     "duration": 2.528072,
     "end_time": "2022-09-29T04:18:58.434863",
     "exception": false,
     "start_time": "2022-09-29T04:18:55.906791",
     "status": "completed"
    },
    "tags": []
   },
   "outputs": [],
   "source": [
    "import string\n",
    "\n",
    "\n",
    "\n",
    "def remove_unk_punctuation(data):\n",
    "  '''\n",
    "  remove <unk> and punctuations\n",
    "  '''\n",
    "\n",
    "  prepared_data = \"\"\n",
    "  for token in  data:\n",
    "    \n",
    "    current_string = token['text'].strip().replace(\"<unk>\", \"\").translate(token['text'].maketrans('', '', string.punctuation))\n",
    "    if current_string!=\"\":\n",
    "      # if not empty string, concate\n",
    "      prepared_data+=current_string\n",
    "\n",
    "  return prepared_data\n",
    "\n",
    "train = remove_unk_punctuation(dataset[0])\n",
    "validation = remove_unk_punctuation(dataset[1])\n",
    "test = remove_unk_punctuation(dataset[2])\n",
    "\n"
   ]
  },
  {
   "cell_type": "markdown",
   "id": "06966d7c",
   "metadata": {
    "papermill": {
     "duration": 0.012443,
     "end_time": "2022-09-29T04:18:58.461010",
     "exception": false,
     "start_time": "2022-09-29T04:18:58.448567",
     "status": "completed"
    },
    "tags": []
   },
   "source": [
    "Below function sort the ngrams based on frequency. It will be helpful to get the most common ngrams."
   ]
  },
  {
   "cell_type": "code",
   "execution_count": 6,
   "id": "9fb8c61a",
   "metadata": {
    "execution": {
     "iopub.execute_input": "2022-09-29T04:18:58.485760Z",
     "iopub.status.busy": "2022-09-29T04:18:58.485192Z",
     "iopub.status.idle": "2022-09-29T04:19:05.474396Z",
     "shell.execute_reply": "2022-09-29T04:19:05.473359Z"
    },
    "id": "T1MkWTeVaWEW",
    "papermill": {
     "duration": 7.004887,
     "end_time": "2022-09-29T04:19:05.477535",
     "exception": false,
     "start_time": "2022-09-29T04:18:58.472648",
     "status": "completed"
    },
    "tags": []
   },
   "outputs": [],
   "source": [
    "import collections\n",
    "def sorted_ngrams(n,text):\n",
    "  ngrams = ngram(n,text)\n",
    "  ngrams_sorted = dict(sorted(ngrams.items(), key=lambda item: item[1],reverse = True))\n",
    "  top_ngrams = []\n",
    "  for key in ngrams_sorted.keys():\n",
    "    top_ngrams.append(key)\n",
    "  return  top_ngrams\n",
    "\n",
    "frequency_sorted_unigram = sorted_ngrams(1,train)\n",
    "frequency_sorted_bigram = sorted_ngrams(2,train)\n",
    "frequency_sorted_trigram = sorted_ngrams(3,train)\n",
    "\n",
    "\n"
   ]
  },
  {
   "cell_type": "markdown",
   "id": "c96c6e84",
   "metadata": {
    "papermill": {
     "duration": 0.016855,
     "end_time": "2022-09-29T04:19:05.512145",
     "exception": false,
     "start_time": "2022-09-29T04:19:05.495290",
     "status": "completed"
    },
    "tags": []
   },
   "source": [
    "Below is the 10 most frequent unigram, bigram and trigrams. If we comapare different n-grams we can see that with more n grams we are getting more meaningful data."
   ]
  },
  {
   "cell_type": "code",
   "execution_count": 7,
   "id": "9640fcec",
   "metadata": {
    "execution": {
     "iopub.execute_input": "2022-09-29T04:19:05.549469Z",
     "iopub.status.busy": "2022-09-29T04:19:05.548955Z",
     "iopub.status.idle": "2022-09-29T04:19:05.558710Z",
     "shell.execute_reply": "2022-09-29T04:19:05.556867Z"
    },
    "id": "a_6tjFzS0hH6",
    "outputId": "a230c8d5-652e-45a8-f408-e32d2ec01074",
    "papermill": {
     "duration": 0.032685,
     "end_time": "2022-09-29T04:19:05.561920",
     "exception": false,
     "start_time": "2022-09-29T04:19:05.529235",
     "status": "completed"
    },
    "tags": []
   },
   "outputs": [
    {
     "name": "stdout",
     "output_type": "stream",
     "text": [
      "most frequent unigram= ['the', 'of', 'and', 'in', 'to', 'a', 'was', 'The', 's', 'that']\n",
      "most frequent bigram= [('of', 'the'), ('in', 'the'), ('to', 'the'), ('and', 'the'), ('on', 'the'), ('for', 'the'), ('from', 'the'), ('at', 'the'), ('by', 'the'), ('as', 'a')]\n",
      "most frequent trigram= [('one', 'of', 'the'), ('the', 'United', 'States'), ('as', 'well', 'as'), ('part', 'of', 'the'), ('the', 'end', 'of'), ('end', 'of', 'the'), ('in', 'the', 'United'), ('a', 'number', 'of'), ('at', 'the', 'time'), ('known', 'as', 'the')]\n"
     ]
    }
   ],
   "source": [
    "print('most frequent unigram=',frequency_sorted_unigram[:10])\n",
    "print('most frequent bigram=',frequency_sorted_bigram[:10])\n",
    "print('most frequent trigram=',frequency_sorted_trigram[:10])"
   ]
  },
  {
   "cell_type": "markdown",
   "id": "94b2817b",
   "metadata": {
    "id": "Op5AfEeGUH5q",
    "papermill": {
     "duration": 0.013086,
     "end_time": "2022-09-29T04:19:05.599474",
     "exception": false,
     "start_time": "2022-09-29T04:19:05.586388",
     "status": "completed"
    },
    "tags": []
   },
   "source": [
    "## **1.3**\n",
    "\n",
    "Calculate the perplexity for each n-gram (unigram, bigram, and trigram) on all splits (traning, validataion, test sets of Wikitext-2). And, without writing code, discuss what might happen to the perplexity if you continue to increase the number of words in your n-gram (4-gram, 5-gram, etc.)?"
   ]
  },
  {
   "cell_type": "code",
   "execution_count": 8,
   "id": "880f43bd",
   "metadata": {
    "execution": {
     "iopub.execute_input": "2022-09-29T04:19:05.625339Z",
     "iopub.status.busy": "2022-09-29T04:19:05.624908Z",
     "iopub.status.idle": "2022-09-29T04:19:11.782522Z",
     "shell.execute_reply": "2022-09-29T04:19:11.781474Z"
    },
    "id": "ubfDeiDfLBTo",
    "papermill": {
     "duration": 6.173545,
     "end_time": "2022-09-29T04:19:11.785183",
     "exception": false,
     "start_time": "2022-09-29T04:19:05.611638",
     "status": "completed"
    },
    "tags": []
   },
   "outputs": [],
   "source": [
    "ngram_time=[]\n",
    "ngram_training_start_time = time.time()\n",
    "unigram_train_count = ngram(1,train)\n",
    "ngram_time.append(time.time()-ngram_training_start_time)\n",
    "ngram_training_start_time = time.time()\n",
    "bigram_train_count = ngram(2,train)\n",
    "ngram_time.append(time.time()-ngram_training_start_time)\n",
    "ngram_training_start_time = time.time()\n",
    "trigram_train_count = ngram(3,train)\n",
    "ngram_time.append(time.time()-ngram_training_start_time)\n",
    " \n",
    "\n",
    "unigram_test_count = ngram(1,test)\n",
    "bigram_test_count = ngram(2,test)\n",
    "trigram_test_count = ngram(3,test)\n",
    "\n",
    "unigram_validation_count = ngram(1,validation)\n",
    "bigram_validation_count = ngram(2,validation)\n",
    "trigram_validation_count = ngram(3,validation)"
   ]
  },
  {
   "cell_type": "markdown",
   "id": "1e6b2af9",
   "metadata": {
    "papermill": {
     "duration": 0.011533,
     "end_time": "2022-09-29T04:19:11.808849",
     "exception": false,
     "start_time": "2022-09-29T04:19:11.797316",
     "status": "completed"
    },
    "tags": []
   },
   "source": [
    "Above code calculates the ngram of all splits. It will be helpful top calculate the perplexity below."
   ]
  },
  {
   "cell_type": "code",
   "execution_count": 9,
   "id": "0946fa8a",
   "metadata": {
    "execution": {
     "iopub.execute_input": "2022-09-29T04:19:11.833815Z",
     "iopub.status.busy": "2022-09-29T04:19:11.833489Z",
     "iopub.status.idle": "2022-09-29T04:19:20.087560Z",
     "shell.execute_reply": "2022-09-29T04:19:20.085871Z"
    },
    "id": "5VoJ9UctDHfv",
    "outputId": "1990ffe2-4d88-4d76-c859-652d9fe85648",
    "papermill": {
     "duration": 8.269128,
     "end_time": "2022-09-29T04:19:20.089839",
     "exception": false,
     "start_time": "2022-09-29T04:19:11.820711",
     "status": "completed"
    },
    "tags": []
   },
   "outputs": [
    {
     "name": "stdout",
     "output_type": "stream",
     "text": [
      "unigram train perplexity= 1941.083712678701\n",
      "bigram train perplexity= 97.34964861873617\n",
      "trigram train perplexity= 5.429987233533894\n"
     ]
    }
   ],
   "source": [
    "import sys\n",
    "import math\n",
    "\n",
    "def compute_perplexity(text,n,ngram_trained_model,n_minus_one_trained_model=None):\n",
    "  text = text.split()\n",
    "  ngrams_list = []\n",
    "\n",
    "  i,j = 0,n\n",
    "  while j <= len(text):\n",
    "    if n==1:\n",
    "      ngrams_list.append(text[i])\n",
    "    else:\n",
    "      ngrams_list.append(tuple(text[i:j]))\n",
    "    i+=1\n",
    "    j+=1\n",
    "  \n",
    "\n",
    "  log_probability = 0\n",
    "  probability = 1\n",
    "  if n==1:\n",
    "    #ngram_trained_model = unigram_train_count\n",
    "    total_unigram = sum(ngram_trained_model.values())\n",
    "    for token in ngrams_list:\n",
    "    #if token in trained_model:\n",
    "      log_probability+=math.log(ngram_trained_model[token]/total_unigram,2)\n",
    "      probability*=ngram_trained_model[token]/total_unigram\n",
    "\n",
    "\n",
    "  elif n==2:\n",
    "    #ngram_trained_model = bigram_train_count\n",
    "    #n_minus_one_trained_model = unigram_train_count\n",
    "    for token in ngrams_list:\n",
    "      n_minus_one_token = token[0]\n",
    "      log_probability+=math.log(ngram_trained_model[token]/n_minus_one_trained_model[n_minus_one_token],2)\n",
    "      probability*=ngram_trained_model[token]/n_minus_one_trained_model[n_minus_one_token]\n",
    "      \n",
    "\n",
    "\n",
    "  elif n==3:\n",
    "    #ngram_trained_model = trigram_train_count\n",
    "    #n_minus_one_trained_model = bigram_train_count\n",
    "    for token in ngrams_list:\n",
    "      n_minus_one_token = token[:n-1]\n",
    "      log_probability+=math.log(ngram_trained_model[token]/n_minus_one_trained_model[n_minus_one_token],2)\n",
    "      probability*=ngram_trained_model[token]/n_minus_one_trained_model[n_minus_one_token]\n",
    "  else:\n",
    "    print(\"not implemented\")\n",
    "    sys.exit(1)\n",
    "\n",
    "  \n",
    "\n",
    "  \n",
    "  #perplexity\n",
    "  perplexity = math.pow(2,-log_probability/len(ngrams_list))\n",
    "\n",
    "  \n",
    "  \n",
    "\n",
    "\n",
    "  \n",
    "\n",
    "\n",
    "\n",
    "  return perplexity #, probability, math.pow(2,log_probability), log_probability\n",
    "    \n",
    "\n",
    "\n",
    "\n",
    "\n",
    "## test the above code\n",
    "#print('unigrams=',text_probability('asdf.g hjk hohoh',1))\n",
    "#print('unigrams=',text_probability('asdf.g hjk hohoh',2))\n",
    "#print('unirams=',text_probability(('Valkyria Chronicles III Senjō no Valkyria 3   Chronicles  Japanese  戦場のヴァルキュリア3  lit  Valkyria of the'),1))\n",
    "#print('bigrams=',text_probability(('Valkyria Chronicles III Senjō no Valkyria 3   Chronicles  Japanese  戦場のヴァルキュリア3  lit  Valkyria of the'),2))\n",
    "\n",
    "#print(text_probability(train,1))\n",
    "print('unigram train perplexity=',compute_perplexity(train,1,unigram_train_count))\n",
    "print('bigram train perplexity=',compute_perplexity(train,2,bigram_train_count,unigram_train_count))\n",
    "print('trigram train perplexity=',compute_perplexity(train,3,trigram_train_count,bigram_train_count))\n",
    "\n"
   ]
  },
  {
   "cell_type": "markdown",
   "id": "c0ac3b6a",
   "metadata": {
    "papermill": {
     "duration": 0.012193,
     "end_time": "2022-09-29T04:19:20.115024",
     "exception": false,
     "start_time": "2022-09-29T04:19:20.102831",
     "status": "completed"
    },
    "tags": []
   },
   "source": [
    "From the above calculation, it appears trigram is better than bigram and bigram is better than unigram as expected and if I continue to increase the number of words in n-gram, it will be better. However, all the code so for is the unsmoothed version of n-gram. It will not work for validation and test data if the validation and test data have unseen word. So in the next section we will apply smoothing and show the result for both test and validation data."
   ]
  },
  {
   "cell_type": "markdown",
   "id": "57c65a2f",
   "metadata": {
    "id": "r7GvYRzjUK9x",
    "papermill": {
     "duration": 0.011628,
     "end_time": "2022-09-29T04:19:20.139412",
     "exception": false,
     "start_time": "2022-09-29T04:19:20.127784",
     "status": "completed"
    },
    "tags": []
   },
   "source": [
    "## **1.4**\n",
    "\n",
    "Enable Laplace smoothing and Add-K smoothing (0.1,0.05,0.01) to your code. Discuss the changes in perplexity values between n-grams as you try different smoothing methods/values."
   ]
  },
  {
   "cell_type": "code",
   "execution_count": 10,
   "id": "67e363a5",
   "metadata": {
    "execution": {
     "iopub.execute_input": "2022-09-29T04:19:20.164309Z",
     "iopub.status.busy": "2022-09-29T04:19:20.163997Z",
     "iopub.status.idle": "2022-09-29T04:19:20.173046Z",
     "shell.execute_reply": "2022-09-29T04:19:20.172131Z"
    },
    "id": "aVkncRe1USvc",
    "outputId": "948d165e-e659-4017-e31d-39f1913e799d",
    "papermill": {
     "duration": 0.024295,
     "end_time": "2022-09-29T04:19:20.175636",
     "exception": false,
     "start_time": "2022-09-29T04:19:20.151341",
     "status": "completed"
    },
    "tags": []
   },
   "outputs": [
    {
     "name": "stdout",
     "output_type": "stream",
     "text": [
      "{('asdf.g', 'hjk'): 1, ('hjk', 'hohoh'): 1}\n",
      "{('asdf.g', 'hjk'): 1, ('hjk', 'hohoh'): 1}\n",
      "{('asdf.g', 'hjk'): 1, ('hjk', 'hohoh'): 1, ('asdf.g', 'gg'): 0, ('gg', 'hjk'): 0, ('hjk', 'fh'): 0, ('fh', 'hohoh'): 0, ('hohoh', 'gg'): 0, ('gg', 'asdfg'): 0}\n",
      "{('asdf.g', 'hjk'): 1, ('hjk', 'hohoh'): 1}\n",
      "{('asdf.g', 'hjk'): 1, ('hjk', 'hohoh'): 1, ('asdf.g', 'gg'): 0, ('gg', 'hjk'): 0, ('hjk', 'fh'): 0, ('fh', 'hohoh'): 0, ('hohoh', 'gg'): 0, ('gg', 'asdfg'): 0}\n",
      "{('asdf.g', 'hjk'): 1, ('hjk', 'hohoh'): 1, ('asdf.g', 'gg'): 0, ('gg', 'hjk'): 0, ('hjk', 'fh'): 0, ('fh', 'hohoh'): 0, ('hohoh', 'gg'): 0, ('gg', 'asdfg'): 0}\n",
      "{('asdf.g', 'hjk'): 2, ('hjk', 'hohoh'): 2, ('asdf.g', 'gg'): 1, ('gg', 'hjk'): 1, ('hjk', 'fh'): 1, ('fh', 'hohoh'): 1, ('hohoh', 'gg'): 1, ('gg', 'asdfg'): 1}\n",
      "{('asdf.g', 'hjk'): 3, ('hjk', 'hohoh'): 3, ('asdf.g', 'gg'): 2, ('gg', 'hjk'): 2, ('hjk', 'fh'): 2, ('fh', 'hohoh'): 2, ('hohoh', 'gg'): 2, ('gg', 'asdfg'): 2}\n"
     ]
    }
   ],
   "source": [
    "## your code here\n",
    "\n",
    "\n",
    "def prepare_for_smoothing(train_ngram_count,test_ngram_count,validation_ngram_count): \n",
    "  result=train_ngram_count.copy()\n",
    "  for token in test_ngram_count:\n",
    "    if token not in train_ngram_count:\n",
    "      result[token]=0\n",
    "  for token in validation_ngram_count:\n",
    "    if token not in train_ngram_count:\n",
    "      result[token]=0\n",
    "  return result\n",
    "\n",
    "def smoothing(train_count, k=0):\n",
    "  result=train_count.copy()\n",
    "  for token in train_count:\n",
    "    result[token]+=k\n",
    "  return result\n",
    "\n",
    "## test the above code\n",
    "#ngram(1,text)\n",
    "toy_unigram_train=ngram(2,'asdf.g hjk hohoh')\n",
    "toy_unigram_test=ngram(2,'asdf.g gg hjk fh hohoh')\n",
    "toy_unigram_valid=ngram(2,'asdf.g hjk hohoh gg asdfg')\n",
    "print(toy_unigram_train)\n",
    "toy_unigram_train_forsmoothing=prepare_for_smoothing(toy_unigram_train,toy_unigram_test,toy_unigram_valid)\n",
    "print(toy_unigram_train)\n",
    "print(toy_unigram_train_forsmoothing)\n",
    "\n",
    "toy_unigram_train_k_0=smoothing(toy_unigram_train_forsmoothing)\n",
    "toy_unigram_train_k_1=smoothing(toy_unigram_train_forsmoothing,1)\n",
    "toy_unigram_train_k_2=smoothing(toy_unigram_train_forsmoothing,2)\n",
    "print(toy_unigram_train)\n",
    "print(toy_unigram_train_forsmoothing)\n",
    "print(toy_unigram_train_k_0)\n",
    "print(toy_unigram_train_k_1)\n",
    "print(toy_unigram_train_k_2)\n",
    "\n",
    "\n",
    "\n",
    "\n"
   ]
  },
  {
   "cell_type": "markdown",
   "id": "88da0283",
   "metadata": {
    "papermill": {
     "duration": 0.011747,
     "end_time": "2022-09-29T04:19:20.199399",
     "exception": false,
     "start_time": "2022-09-29T04:19:20.187652",
     "status": "completed"
    },
    "tags": []
   },
   "source": [
    "The above two functions do the smoothing task. These functions are pretty flexible. So we can do both laplace and k-smoothing. In below 2 cells I will prepare the data for this."
   ]
  },
  {
   "cell_type": "code",
   "execution_count": 11,
   "id": "77989428",
   "metadata": {
    "execution": {
     "iopub.execute_input": "2022-09-29T04:19:20.224457Z",
     "iopub.status.busy": "2022-09-29T04:19:20.224006Z",
     "iopub.status.idle": "2022-09-29T04:19:20.693972Z",
     "shell.execute_reply": "2022-09-29T04:19:20.692959Z"
    },
    "id": "4AoTKh3z9OhU",
    "papermill": {
     "duration": 0.485282,
     "end_time": "2022-09-29T04:19:20.696636",
     "exception": false,
     "start_time": "2022-09-29T04:19:20.211354",
     "status": "completed"
    },
    "tags": []
   },
   "outputs": [],
   "source": [
    "\n",
    "unigram_train_count_smoothing= prepare_for_smoothing(unigram_train_count,unigram_test_count,unigram_validation_count)\n",
    "bigram_train_count_smoothing = prepare_for_smoothing(bigram_train_count,bigram_test_count,bigram_validation_count)\n",
    "trigram_train_count_smoothing = prepare_for_smoothing(trigram_train_count,trigram_test_count,trigram_validation_count)"
   ]
  },
  {
   "cell_type": "code",
   "execution_count": 12,
   "id": "46e4e634",
   "metadata": {
    "execution": {
     "iopub.execute_input": "2022-09-29T04:19:20.722470Z",
     "iopub.status.busy": "2022-09-29T04:19:20.722146Z",
     "iopub.status.idle": "2022-09-29T04:19:25.489496Z",
     "shell.execute_reply": "2022-09-29T04:19:25.488478Z"
    },
    "id": "-2wYpXBJG6Zx",
    "papermill": {
     "duration": 4.783004,
     "end_time": "2022-09-29T04:19:25.492055",
     "exception": false,
     "start_time": "2022-09-29T04:19:20.709051",
     "status": "completed"
    },
    "tags": []
   },
   "outputs": [],
   "source": [
    "unigram_train_k_0=smoothing(unigram_train_count_smoothing)\n",
    "bigram_train_k_0=smoothing(bigram_train_count_smoothing)\n",
    "trigram_train_k_0=smoothing(trigram_train_count_smoothing)\n",
    "\n",
    "#Laplace smoothing\n",
    "unigram_train_k_laplace=smoothing(unigram_train_count_smoothing,1)\n",
    "bigram_train_k_laplace=smoothing(bigram_train_count_smoothing,1)\n",
    "trigram_train_k_laplace=smoothing(trigram_train_count_smoothing,1)\n",
    "\n",
    "#k(0.1,0.05,0.01) smoothing \n",
    "unigram_train_k_1=smoothing(unigram_train_count_smoothing,0.1)\n",
    "bigram_train_k_1=smoothing(bigram_train_count_smoothing,0.1)\n",
    "trigram_train_k_1=smoothing(trigram_train_count_smoothing,0.1)\n",
    "\n",
    "unigram_train_k_05=smoothing(unigram_train_count_smoothing,0.05)\n",
    "bigram_train_k_05=smoothing(bigram_train_count_smoothing,0.05)\n",
    "trigram_train_k_05=smoothing(trigram_train_count_smoothing,0.05)\n",
    "\n",
    "unigram_train_k_01=smoothing(unigram_train_count_smoothing,0.01)\n",
    "bigram_train_k_01=smoothing(bigram_train_count_smoothing,0.01)\n",
    "trigram_train_k_01=smoothing(trigram_train_count_smoothing,0.01)"
   ]
  },
  {
   "cell_type": "markdown",
   "id": "56cb96b6",
   "metadata": {
    "papermill": {
     "duration": 0.012576,
     "end_time": "2022-09-29T04:19:25.517313",
     "exception": false,
     "start_time": "2022-09-29T04:19:25.504737",
     "status": "completed"
    },
    "tags": []
   },
   "source": [
    "Now our data are ready for different types of smoothing. The results are shown below."
   ]
  },
  {
   "cell_type": "code",
   "execution_count": 13,
   "id": "5638029d",
   "metadata": {
    "execution": {
     "iopub.execute_input": "2022-09-29T04:19:25.542492Z",
     "iopub.status.busy": "2022-09-29T04:19:25.542167Z",
     "iopub.status.idle": "2022-09-29T04:19:34.296578Z",
     "shell.execute_reply": "2022-09-29T04:19:34.295356Z"
    },
    "id": "TPLGYwFBAMVi",
    "outputId": "f7cecbbf-6d9b-4c9d-d338-094fcfcf49ab",
    "papermill": {
     "duration": 8.770044,
     "end_time": "2022-09-29T04:19:34.299372",
     "exception": false,
     "start_time": "2022-09-29T04:19:25.529328",
     "status": "completed"
    },
    "tags": []
   },
   "outputs": [
    {
     "name": "stdout",
     "output_type": "stream",
     "text": [
      "No smoothing. The train performance should be same as problem 1.3\n",
      "..train..\n",
      "unigram perplexity= 1941.083712678701\n",
      "bigram perplexity= 97.34964861873617\n",
      "trigram perplexity= 5.429987233533894\n"
     ]
    }
   ],
   "source": [
    "print('No smoothing. The train performance should be same as problem 1.3')\n",
    "print('..train..')\n",
    "print(\"unigram perplexity=\",compute_perplexity(train,1,unigram_train_k_0))\n",
    "print(\"bigram perplexity=\",compute_perplexity(train,2,bigram_train_k_0,unigram_train_k_0))\n",
    "print(\"trigram perplexity=\",compute_perplexity(train,3,trigram_train_k_0,bigram_train_k_0))\n",
    "\n"
   ]
  },
  {
   "cell_type": "code",
   "execution_count": 14,
   "id": "f46a767a",
   "metadata": {
    "execution": {
     "iopub.execute_input": "2022-09-29T04:19:34.326212Z",
     "iopub.status.busy": "2022-09-29T04:19:34.325725Z",
     "iopub.status.idle": "2022-09-29T04:19:46.045546Z",
     "shell.execute_reply": "2022-09-29T04:19:46.044090Z"
    },
    "id": "-mT4gnjvIh3o",
    "outputId": "8b23719a-e753-4777-deca-1ea3f133bfc7",
    "papermill": {
     "duration": 11.735453,
     "end_time": "2022-09-29T04:19:46.047786",
     "exception": false,
     "start_time": "2022-09-29T04:19:34.312333",
     "status": "completed"
    },
    "tags": []
   },
   "outputs": [
    {
     "name": "stdout",
     "output_type": "stream",
     "text": [
      "......lapalce smooting performance.......\n",
      "..train..\n",
      "unigram perplexity= 1943.6194148230973\n",
      "bigram perplexity= 73.77607260148193\n",
      "trigram perplexity= 4.176797835405882\n",
      "..validation..\n",
      "unigram perplexity= 1730.0201050331605\n",
      "bigram perplexity= 110.30615567874555\n",
      "trigram perplexity= 5.682695471903138\n",
      "..test..\n",
      "unigram perplexity= 1688.5167095041265\n",
      "bigram perplexity= 111.17559751168041\n",
      "trigram perplexity= 5.792542173852982\n"
     ]
    }
   ],
   "source": [
    "print(\"......lapalce smooting performance.......\")\n",
    "unigram_test_perplexity = []\n",
    "bigram_test_perplexity = []\n",
    "trigram_test_perpplexity = []\n",
    "print('..train..')\n",
    "print(\"unigram perplexity=\",compute_perplexity(train,1,unigram_train_k_laplace))\n",
    "print(\"bigram perplexity=\",compute_perplexity(train,2,bigram_train_k_laplace,unigram_train_k_laplace))\n",
    "print(\"trigram perplexity=\",compute_perplexity(train,3,trigram_train_k_laplace,bigram_train_k_laplace))\n",
    "print('..validation..')\n",
    "print(\"unigram perplexity=\",compute_perplexity(validation,1,unigram_train_k_laplace))\n",
    "print(\"bigram perplexity=\",compute_perplexity(validation,2,bigram_train_k_laplace,unigram_train_k_laplace))\n",
    "print(\"trigram perplexity=\",compute_perplexity(validation,3,trigram_train_k_laplace,bigram_train_k_laplace))\n",
    "print('..test..')\n",
    "unigram_test_perplexity.append(compute_perplexity(test,1,unigram_train_k_laplace))\n",
    "bigram_test_perplexity.append(compute_perplexity(test,2,bigram_train_k_laplace,unigram_train_k_laplace))\n",
    "trigram_test_perpplexity.append(compute_perplexity(test,3,trigram_train_k_laplace,bigram_train_k_laplace))\n",
    "\n",
    "print(\"unigram perplexity=\",compute_perplexity(test,1,unigram_train_k_laplace))\n",
    "print(\"bigram perplexity=\",compute_perplexity(test,2,bigram_train_k_laplace,unigram_train_k_laplace))\n",
    "print(\"trigram perplexity=\",compute_perplexity(test,3,trigram_train_k_laplace,bigram_train_k_laplace))\n"
   ]
  },
  {
   "cell_type": "code",
   "execution_count": 15,
   "id": "785a4097",
   "metadata": {
    "execution": {
     "iopub.execute_input": "2022-09-29T04:19:46.075037Z",
     "iopub.status.busy": "2022-09-29T04:19:46.074738Z",
     "iopub.status.idle": "2022-09-29T04:19:57.341640Z",
     "shell.execute_reply": "2022-09-29T04:19:57.340238Z"
    },
    "id": "-7i5OvcqJxJS",
    "outputId": "c7a69309-f672-45a0-9f83-ee732e747687",
    "papermill": {
     "duration": 11.282953,
     "end_time": "2022-09-29T04:19:57.343912",
     "exception": false,
     "start_time": "2022-09-29T04:19:46.060959",
     "status": "completed"
    },
    "tags": []
   },
   "outputs": [
    {
     "name": "stdout",
     "output_type": "stream",
     "text": [
      "......k=0.1 smooting performance.......\n",
      "..train..\n",
      "unigram perplexity= 1941.1284835418628\n",
      "bigram perplexity= 93.8621401417523\n",
      "trigram perplexity= 5.233655962524139\n",
      "..validation..\n",
      "unigram perplexity= 1726.269501963434\n",
      "bigram perplexity= 251.70034887595685\n",
      "trigram perplexity= 14.707950555613726\n",
      "..test..\n",
      "unigram perplexity= 1684.858102481261\n",
      "bigram perplexity= 251.96117101111764\n",
      "trigram perplexity= 15.096859354326547\n"
     ]
    }
   ],
   "source": [
    "print(\"......k=0.1 smooting performance.......\")\n",
    "\n",
    "print('..train..')\n",
    "print(\"unigram perplexity=\",compute_perplexity(train,1,unigram_train_k_1))\n",
    "print(\"bigram perplexity=\",compute_perplexity(train,2,bigram_train_k_1,unigram_train_k_1))\n",
    "print(\"trigram perplexity=\",compute_perplexity(train,3,trigram_train_k_1,bigram_train_k_1))\n",
    "print('..validation..')\n",
    "print(\"unigram perplexity=\",compute_perplexity(validation,1,unigram_train_k_1))\n",
    "print(\"bigram perplexity=\",compute_perplexity(validation,2,bigram_train_k_1,unigram_train_k_1))\n",
    "print(\"trigram perplexity=\",compute_perplexity(validation,3,trigram_train_k_1,bigram_train_k_1))\n",
    "print('..test..')\n",
    "\n",
    "unigram_test_perplexity.append(compute_perplexity(test,1,unigram_train_k_1))\n",
    "bigram_test_perplexity.append(compute_perplexity(test,2,bigram_train_k_1,unigram_train_k_1))\n",
    "trigram_test_perpplexity.append(compute_perplexity(test,3,trigram_train_k_1,bigram_train_k_1))\n",
    "\n",
    "print(\"unigram perplexity=\",compute_perplexity(test,1,unigram_train_k_1))\n",
    "print(\"bigram perplexity=\",compute_perplexity(test,2,bigram_train_k_1,unigram_train_k_1))\n",
    "print(\"trigram perplexity=\",compute_perplexity(test,3,trigram_train_k_1,bigram_train_k_1))"
   ]
  },
  {
   "cell_type": "code",
   "execution_count": 16,
   "id": "c9fec5f9",
   "metadata": {
    "execution": {
     "iopub.execute_input": "2022-09-29T04:19:57.373212Z",
     "iopub.status.busy": "2022-09-29T04:19:57.372926Z",
     "iopub.status.idle": "2022-09-29T04:20:08.961488Z",
     "shell.execute_reply": "2022-09-29T04:20:08.960392Z"
    },
    "id": "H6IaTbBl0Smb",
    "outputId": "b15ac9e3-3bc8-435b-81f9-ce61fbd43bb1",
    "papermill": {
     "duration": 11.607138,
     "end_time": "2022-09-29T04:20:08.964894",
     "exception": false,
     "start_time": "2022-09-29T04:19:57.357756",
     "status": "completed"
    },
    "tags": []
   },
   "outputs": [
    {
     "name": "stdout",
     "output_type": "stream",
     "text": [
      "......k=0.05 smooting performance.......\n",
      "..train..\n",
      "unigram perplexity= 1941.0990998568923\n",
      "bigram perplexity= 95.55443878775249\n",
      "trigram perplexity= 5.3284420937647194\n",
      "..validation..\n",
      "unigram perplexity= 1726.4822060155464\n",
      "bigram perplexity= 315.98910471936813\n",
      "trigram perplexity= 19.734544987407137\n",
      "..test..\n",
      "unigram perplexity= 1685.1386273239207\n",
      "bigram perplexity= 315.73356490457326\n",
      "trigram perplexity= 20.295591321493074\n"
     ]
    }
   ],
   "source": [
    "print(\"......k=0.05 smooting performance.......\")\n",
    "\n",
    "print('..train..')\n",
    "print(\"unigram perplexity=\",compute_perplexity(train,1,unigram_train_k_05))\n",
    "print(\"bigram perplexity=\",compute_perplexity(train,2,bigram_train_k_05,unigram_train_k_05))\n",
    "print(\"trigram perplexity=\",compute_perplexity(train,3,trigram_train_k_05,bigram_train_k_05))\n",
    "print('..validation..')\n",
    "print(\"unigram perplexity=\",compute_perplexity(validation,1,unigram_train_k_05))\n",
    "print(\"bigram perplexity=\",compute_perplexity(validation,2,bigram_train_k_05,unigram_train_k_05))\n",
    "print(\"trigram perplexity=\",compute_perplexity(validation,3,trigram_train_k_05,bigram_train_k_05))\n",
    "print('..test..')\n",
    "unigram_test_perplexity.append(compute_perplexity(test,1,unigram_train_k_05))\n",
    "bigram_test_perplexity.append(compute_perplexity(test,2,bigram_train_k_05,unigram_train_k_05))\n",
    "trigram_test_perpplexity.append(compute_perplexity(test,3,trigram_train_k_05,bigram_train_k_05))\n",
    "\n",
    "print(\"unigram perplexity=\",compute_perplexity(test,1,unigram_train_k_05))\n",
    "print(\"bigram perplexity=\",compute_perplexity(test,2,bigram_train_k_05,unigram_train_k_05))\n",
    "print(\"trigram perplexity=\",compute_perplexity(test,3,trigram_train_k_05,bigram_train_k_05))"
   ]
  },
  {
   "cell_type": "code",
   "execution_count": 17,
   "id": "d0228d08",
   "metadata": {
    "execution": {
     "iopub.execute_input": "2022-09-29T04:20:08.995323Z",
     "iopub.status.busy": "2022-09-29T04:20:08.995014Z",
     "iopub.status.idle": "2022-09-29T04:20:20.186185Z",
     "shell.execute_reply": "2022-09-29T04:20:20.184177Z"
    },
    "id": "UApapPpY1Aev",
    "outputId": "c81a67b2-0bc2-4b74-bfb6-ec7fb1549328",
    "papermill": {
     "duration": 11.208469,
     "end_time": "2022-09-29T04:20:20.188397",
     "exception": false,
     "start_time": "2022-09-29T04:20:08.979928",
     "status": "completed"
    },
    "tags": []
   },
   "outputs": [
    {
     "name": "stdout",
     "output_type": "stream",
     "text": [
      "......k=0.01 smooting performance.......\n",
      "..train..\n",
      "unigram perplexity= 1941.085645879415\n",
      "bigram perplexity= 96.98183754326558\n",
      "trigram perplexity= 5.409098635628027\n",
      "..validation..\n",
      "unigram perplexity= 1727.3035384219418\n",
      "bigram perplexity= 530.6329428185244\n",
      "trigram perplexity= 39.18001355921677\n",
      "..test..\n",
      "unigram perplexity= 1686.1392615421596\n",
      "bigram perplexity= 527.9992658576441\n",
      "trigram perplexity= 40.471719803450185\n"
     ]
    }
   ],
   "source": [
    "print(\"......k=0.01 smooting performance.......\")\n",
    "\n",
    "print('..train..')\n",
    "print(\"unigram perplexity=\",compute_perplexity(train,1,unigram_train_k_01))\n",
    "print(\"bigram perplexity=\",compute_perplexity(train,2,bigram_train_k_01,unigram_train_k_01))\n",
    "print(\"trigram perplexity=\",compute_perplexity(train,3,trigram_train_k_01,bigram_train_k_01))\n",
    "print('..validation..')\n",
    "print(\"unigram perplexity=\",compute_perplexity(validation,1,unigram_train_k_01))\n",
    "print(\"bigram perplexity=\",compute_perplexity(validation,2,bigram_train_k_01,unigram_train_k_01))\n",
    "print(\"trigram perplexity=\",compute_perplexity(validation,3,trigram_train_k_01,bigram_train_k_01))\n",
    "print('..test..')\n",
    "\n",
    "unigram_test_perplexity.append(compute_perplexity(test,1,unigram_train_k_01))\n",
    "bigram_test_perplexity.append(compute_perplexity(test,2,bigram_train_k_01,unigram_train_k_01))\n",
    "trigram_test_perpplexity.append(compute_perplexity(test,3,trigram_train_k_01,bigram_train_k_01))\n",
    "\n",
    "print(\"unigram perplexity=\",compute_perplexity(test,1,unigram_train_k_01))\n",
    "print(\"bigram perplexity=\",compute_perplexity(test,2,bigram_train_k_01,unigram_train_k_01))\n",
    "print(\"trigram perplexity=\",compute_perplexity(test,3,trigram_train_k_01,bigram_train_k_01))"
   ]
  },
  {
   "cell_type": "markdown",
   "id": "211816e1",
   "metadata": {
    "papermill": {
     "duration": 0.013773,
     "end_time": "2022-09-29T04:20:20.216518",
     "exception": false,
     "start_time": "2022-09-29T04:20:20.202745",
     "status": "completed"
    },
    "tags": []
   },
   "source": [
    "Perplexity in triainig data is not much effected by smoothing as expected. Laplace smooting with trigram generates the best result for validation and test data. Based on the above experiments it appears that if we do more smoothing (like laplace where k=1), we get better performance in test set. Below are the plots of all n-grams with different k smoothing value on test data."
   ]
  },
  {
   "cell_type": "code",
   "execution_count": 18,
   "id": "d44e56dd",
   "metadata": {
    "execution": {
     "iopub.execute_input": "2022-09-29T04:20:20.246606Z",
     "iopub.status.busy": "2022-09-29T04:20:20.245672Z",
     "iopub.status.idle": "2022-09-29T04:20:21.417472Z",
     "shell.execute_reply": "2022-09-29T04:20:21.416582Z"
    },
    "papermill": {
     "duration": 1.188859,
     "end_time": "2022-09-29T04:20:21.419530",
     "exception": false,
     "start_time": "2022-09-29T04:20:20.230671",
     "status": "completed"
    },
    "tags": []
   },
   "outputs": [
    {
     "data": {
      "image/png": "[encoded data removed]",
      "text/plain": [
       "<Figure size 1080x360 with 3 Axes>"
      ]
     },
     "metadata": {
      "needs_background": "light"
     },
     "output_type": "display_data"
    }
   ],
   "source": [
    "import matplotlib.pyplot as plt\n",
    "fig, (ax1, ax2,ax3) = plt.subplots(1, 3,figsize=(15, 5))\n",
    "x=[1,.1,.05,.01]\n",
    "ax1.scatter(x, unigram_test_perplexity)\n",
    "ax1.set_title('unigram')\n",
    "ax1.set_xlabel('value of k')\n",
    "ax1.set_ylabel('Test perplexity')\n",
    "ax2.scatter(x, bigram_test_perplexity)\n",
    "ax2.set_title('bigram')\n",
    "ax2.set_xlabel('value of k')\n",
    "ax2.set_ylabel('Test perplexity')\n",
    "ax3.scatter(x, trigram_test_perpplexity)\n",
    "ax3.set_title('trigram')\n",
    "ax3.set_xlabel('value of k')\n",
    "ax3.set_ylabel('Test perplexity')\n",
    "fig.tight_layout()\n",
    "plt.show()\n"
   ]
  },
  {
   "cell_type": "code",
   "execution_count": 19,
   "id": "266d8ac9",
   "metadata": {
    "execution": {
     "iopub.execute_input": "2022-09-29T04:20:21.449737Z",
     "iopub.status.busy": "2022-09-29T04:20:21.449453Z",
     "iopub.status.idle": "2022-09-29T04:20:21.453826Z",
     "shell.execute_reply": "2022-09-29T04:20:21.452797Z"
    },
    "id": "TzHmlyyKK5Wp",
    "outputId": "7ba9401d-437d-4cfe-9c36-fad5487e692f",
    "papermill": {
     "duration": 0.021887,
     "end_time": "2022-09-29T04:20:21.456101",
     "exception": false,
     "start_time": "2022-09-29T04:20:21.434214",
     "status": "completed"
    },
    "tags": []
   },
   "outputs": [],
   "source": [
    "#sys.exit(1)"
   ]
  },
  {
   "cell_type": "markdown",
   "id": "73899f8f",
   "metadata": {
    "id": "4-ce94w5tAnP",
    "papermill": {
     "duration": 0.013939,
     "end_time": "2022-09-29T04:20:21.484194",
     "exception": false,
     "start_time": "2022-09-29T04:20:21.470255",
     "status": "completed"
    },
    "tags": []
   },
   "source": [
    "## **Problem 2**\n",
    "\n"
   ]
  },
  {
   "cell_type": "markdown",
   "id": "1d0a8289",
   "metadata": {
    "id": "pNWxGLhaByZX",
    "papermill": {
     "duration": 0.013913,
     "end_time": "2022-09-29T04:20:21.512272",
     "exception": false,
     "start_time": "2022-09-29T04:20:21.498359",
     "status": "completed"
    },
    "tags": []
   },
   "source": [
    "(Eisenstein Ch. 6) Using the Pytorch library, train an LSTM language model from the same Wikitext training corpus you used in problem 1. After each epoch of training, compute its perplexity on the Wikitext validation corpus. Stop training when the perplexity stops improving.\n",
    "\n",
    "1. Fully describe your model architecture, hyperparameters, and experimental procedure.\n",
    "2. After each epoch of training, compute your LM’s perplexity on the development data. Plot the development perplexity against # of epochs. Additionally, compute and report the perplexity on test\n",
    "data.\n",
    "3. Compare experimental results such as perplexity and training time between your n-gram and neural models (include smoothed and unsmooth n-grams). Provide graphs that demonstrate your\n",
    "results.\n"
   ]
  },
  {
   "cell_type": "markdown",
   "id": "e9ab33ab",
   "metadata": {
    "papermill": {
     "duration": 0.01397,
     "end_time": "2022-09-29T04:20:21.540438",
     "exception": false,
     "start_time": "2022-09-29T04:20:21.526468",
     "status": "completed"
    },
    "tags": []
   },
   "source": [
    "**model architecture, hyperparameters, and experimental procedure.**\n",
    "<br />First I consider an embedding layer, then LSTM layer and finally a linear layer. Below is the model architecture and hyper parameters. After building the neural model I compare this with the n-gram models"
   ]
  },
  {
   "cell_type": "code",
   "execution_count": 20,
   "id": "b9d68b01",
   "metadata": {
    "execution": {
     "iopub.execute_input": "2022-09-29T04:20:21.570003Z",
     "iopub.status.busy": "2022-09-29T04:20:21.569729Z",
     "iopub.status.idle": "2022-09-29T04:20:21.574836Z",
     "shell.execute_reply": "2022-09-29T04:20:21.573891Z"
    },
    "papermill": {
     "duration": 0.022329,
     "end_time": "2022-09-29T04:20:21.576859",
     "exception": false,
     "start_time": "2022-09-29T04:20:21.554530",
     "status": "completed"
    },
    "tags": []
   },
   "outputs": [],
   "source": [
    "sequence_length = 10  # will take this many taken at a time for the LSTM model\n",
    "batch_length = 100 # this is the batch size\n",
    "num_of_epochs = 3 # epoch number. Could not go more than 3 epochs because the model is time consuming.\n",
    "\n",
    "embedding_dim, hidden_dim, rnn_layers = 1024, 1024, 1 # embedding_dim is the first layer, next hidden_dim is the hidden states of LSTM, next rnn_layers is the number of LSTM unit \n",
    "#After the LSTM layer, a linear layer is used as the final layer.\n",
    "\n",
    "learning_rate = 0.0001"
   ]
  },
  {
   "cell_type": "code",
   "execution_count": 21,
   "id": "21856bf9",
   "metadata": {
    "execution": {
     "iopub.execute_input": "2022-09-29T04:20:21.606324Z",
     "iopub.status.busy": "2022-09-29T04:20:21.606035Z",
     "iopub.status.idle": "2022-09-29T04:20:23.629457Z",
     "shell.execute_reply": "2022-09-29T04:20:23.628383Z"
    },
    "id": "96ql2HvwNxtf",
    "papermill": {
     "duration": 2.040912,
     "end_time": "2022-09-29T04:20:23.631931",
     "exception": false,
     "start_time": "2022-09-29T04:20:21.591019",
     "status": "completed"
    },
    "tags": []
   },
   "outputs": [
    {
     "name": "stdout",
     "output_type": "stream",
     "text": [
      "  ์   :    0,\n",
      "  29th:    1,\n",
      "  Los :    2,\n",
      "  timeI:    3,\n",
      "  Dollar:    4,\n",
      "  Circus:    5,\n"
     ]
    }
   ],
   "source": [
    "## your code here\n",
    "import numpy as np\n",
    "from torchtext.vocab import vocab\n",
    "\n",
    "#build vocabulary\n",
    "\n",
    "train_list = train.split()\n",
    "test_list = test.split()\n",
    "validation_list = validation.split()\n",
    "\n",
    "vocabulary = set(train_list + test_list + validation_list)\n",
    "\n",
    "#vectorize the word\n",
    "\n",
    "word2idx = {w:i for i, w in enumerate(vocabulary)}\n",
    "\n",
    "#test\n",
    "for i,word in enumerate(word2idx):\n",
    "    print('  {:4s}: {:4d},'.format(word, word2idx[word]))\n",
    "    if i == 5:\n",
    "      break\n",
    "    \n"
   ]
  },
  {
   "cell_type": "code",
   "execution_count": 22,
   "id": "593198bd",
   "metadata": {
    "execution": {
     "iopub.execute_input": "2022-09-29T04:20:23.664182Z",
     "iopub.status.busy": "2022-09-29T04:20:23.662523Z",
     "iopub.status.idle": "2022-09-29T04:20:23.959676Z",
     "shell.execute_reply": "2022-09-29T04:20:23.958459Z"
    },
    "id": "4YeGuh-BPcAT",
    "papermill": {
     "duration": 0.315324,
     "end_time": "2022-09-29T04:20:23.962201",
     "exception": false,
     "start_time": "2022-09-29T04:20:23.646877",
     "status": "completed"
    },
    "tags": []
   },
   "outputs": [
    {
     "name": "stdout",
     "output_type": "stream",
     "text": [
      "['Valkyria', 'Chronicles', 'III', 'Senjō', 'no', 'Valkyria', '3', 'Chronicles', 'Japanese', '戦場のヴァルキュリア3']\n",
      "[6424, 27032, 22573, 25793, 3847, 6424, 31529, 27032, 17824, 14580]\n",
      "6424 14580\n"
     ]
    }
   ],
   "source": [
    "#vectorize the text\n",
    "def vectorize_text(text):\n",
    "  return [word2idx[word] for word in text]\n",
    "\n",
    "\n",
    "vectorized_train_list = vectorize_text(train_list)\n",
    "vectorized_test_list = vectorize_text(test_list)\n",
    "vectorized_validation_list = vectorize_text(validation_list)\n",
    "print(train_list[0:10])\n",
    "print(vectorized_train_list[0:10])\n",
    "print(word2idx['Valkyria'],word2idx['戦場のヴァルキュリア3'])"
   ]
  },
  {
   "cell_type": "code",
   "execution_count": 23,
   "id": "3b55e0a3",
   "metadata": {
    "execution": {
     "iopub.execute_input": "2022-09-29T04:20:23.993491Z",
     "iopub.status.busy": "2022-09-29T04:20:23.993151Z",
     "iopub.status.idle": "2022-09-29T04:20:24.005782Z",
     "shell.execute_reply": "2022-09-29T04:20:24.004660Z"
    },
    "id": "h7pl7ImuRocV",
    "papermill": {
     "duration": 0.030493,
     "end_time": "2022-09-29T04:20:24.008260",
     "exception": false,
     "start_time": "2022-09-29T04:20:23.977767",
     "status": "completed"
    },
    "tags": []
   },
   "outputs": [
    {
     "name": "stdout",
     "output_type": "stream",
     "text": [
      "tensor([[27032, 22573, 25793,  3847,  6424],\n",
      "        [ 6424, 27032, 22573, 25793,  3847]])\n",
      "tensor([[22573, 25793,  3847,  6424, 31529],\n",
      "        [27032, 22573, 25793,  3847,  6424]])\n"
     ]
    }
   ],
   "source": [
    "import torch\n",
    "import torch.nn as nn\n",
    "import torch.nn.functional as F\n",
    "import torch.optim as optim\n",
    "\n",
    "torch.manual_seed(0)\n",
    "\n",
    "#creating training samples\n",
    "def create_training_samples(sequence_length, vectorized_text,batch_length):\n",
    "  starting_index = np.random.choice(len(vectorized_text)-1-sequence_length, batch_length)\n",
    "  x = np.array([vectorized_text[i:i+sequence_length] for i in starting_index])\n",
    "  y = np.array([vectorized_text[i+1:i+sequence_length+1] for i in starting_index])\n",
    "  return torch.from_numpy(x),torch.from_numpy(y)\n",
    "\n",
    "\n",
    "#test create_training_samples#\n",
    "toy_x, toy_y = create_training_samples(5,vectorized_train_list[0:10],2)\n",
    "\n",
    "print(toy_x)\n",
    "print(toy_y)\n"
   ]
  },
  {
   "cell_type": "code",
   "execution_count": 24,
   "id": "699c17fd",
   "metadata": {
    "execution": {
     "iopub.execute_input": "2022-09-29T04:20:24.038641Z",
     "iopub.status.busy": "2022-09-29T04:20:24.038378Z",
     "iopub.status.idle": "2022-09-29T04:20:24.046982Z",
     "shell.execute_reply": "2022-09-29T04:20:24.046129Z"
    },
    "id": "H_tZ0Q7g0NJ-",
    "papermill": {
     "duration": 0.025661,
     "end_time": "2022-09-29T04:20:24.048756",
     "exception": false,
     "start_time": "2022-09-29T04:20:24.023095",
     "status": "completed"
    },
    "tags": []
   },
   "outputs": [],
   "source": [
    "\n",
    "#set up dataset for data loader\n",
    "from torch.utils.data import Dataset, DataLoader\n",
    "class Wikitext:\n",
    "  def __init__(self,vectorized_text,sequence_length):\n",
    "    self.vectorized_text = vectorized_text\n",
    "    self.sequence_length = sequence_length\n",
    "  def __len__(self):\n",
    "    return len(self.vectorized_text) - self.sequence_length\n",
    "  def __getitem__(self,idx):\n",
    "    x = np.array(self.vectorized_text[idx:idx+self.sequence_length])\n",
    "    y = np.array(self.vectorized_text[idx+1:idx+1+self.sequence_length])\n",
    "    return (torch.from_numpy(x),torch.from_numpy(y))\n",
    "    \n",
    "\n",
    "\n",
    "\n",
    "\n",
    "wiki_datatest_train = Wikitext(vectorized_train_list,sequence_length)\n",
    "wiki_datatest_validation = Wikitext(vectorized_validation_list,sequence_length)\n",
    "wiki_datatest_test = Wikitext(vectorized_test_list,sequence_length)\n",
    "train_loader = DataLoader(dataset=wiki_datatest_train, batch_size=batch_length)\n",
    "validation_loader = DataLoader(dataset=wiki_datatest_validation, batch_size=batch_length)\n",
    "test_loader = DataLoader(dataset=wiki_datatest_test, batch_size=batch_length)\n",
    "\n",
    "\n",
    "\n",
    "\n"
   ]
  },
  {
   "cell_type": "code",
   "execution_count": 25,
   "id": "b0addeb8",
   "metadata": {
    "execution": {
     "iopub.execute_input": "2022-09-29T04:20:24.079077Z",
     "iopub.status.busy": "2022-09-29T04:20:24.078325Z",
     "iopub.status.idle": "2022-09-29T04:20:24.147858Z",
     "shell.execute_reply": "2022-09-29T04:20:24.146778Z"
    },
    "papermill": {
     "duration": 0.087324,
     "end_time": "2022-09-29T04:20:24.150588",
     "exception": false,
     "start_time": "2022-09-29T04:20:24.063264",
     "status": "completed"
    },
    "tags": []
   },
   "outputs": [
    {
     "name": "stdout",
     "output_type": "stream",
     "text": [
      "cuda\n"
     ]
    }
   ],
   "source": [
    "#select device\n",
    "if torch.cuda.is_available()==True:\n",
    "    device = torch.device('cuda')\n",
    "else:\n",
    "    device = torch.device('cpu')\n",
    "#device = torch.device('cuda' if torch.cuda.is_available() else 'cpu')\n",
    "\n",
    "\n",
    "print(device)"
   ]
  },
  {
   "cell_type": "code",
   "execution_count": 26,
   "id": "33bc6e13",
   "metadata": {
    "execution": {
     "iopub.execute_input": "2022-09-29T04:20:24.182394Z",
     "iopub.status.busy": "2022-09-29T04:20:24.181889Z",
     "iopub.status.idle": "2022-09-29T04:20:24.204343Z",
     "shell.execute_reply": "2022-09-29T04:20:24.203496Z"
    },
    "id": "7hZHrmsW1LD-",
    "papermill": {
     "duration": 0.039952,
     "end_time": "2022-09-29T04:20:24.206326",
     "exception": false,
     "start_time": "2022-09-29T04:20:24.166374",
     "status": "completed"
    },
    "tags": []
   },
   "outputs": [],
   "source": [
    "#LSTM model#\n",
    "\n",
    "import torch\n",
    "import torch.nn as nn\n",
    "import torch.nn.functional as F\n",
    "import torch.optim as optim\n",
    "\n",
    "torch.manual_seed(0)\n",
    "class LSTMModel(nn.Module):\n",
    "    def __init__(self, embedding_dim, hidden_dim, vocabulary_size, rnn_layers):\n",
    "        super(LSTMModel, self).__init__()\n",
    "        self.rnn_layers= rnn_layers\n",
    "        self.hidden_size=hidden_dim\n",
    "        self.word_embeddings = nn.Embedding(vocabulary_size, embedding_dim)\n",
    "        self.lstm = nn.LSTM(embedding_dim, hidden_dim,rnn_layers,batch_first=True)\n",
    "        self.last_layer = nn.Linear(hidden_dim, vocabulary_size)\n",
    "        \n",
    "    def forward(self, text,previous_state):\n",
    "        embeds = self.word_embeddings(text)\n",
    "\n",
    "      \n",
    "      \n",
    "      \n",
    "        lstm_out,new_state = self.lstm(embeds,previous_state)\n",
    "\n",
    "      \n",
    "\n",
    "        lstm_out = lstm_out.reshape(lstm_out.size(0)*lstm_out.size(1), lstm_out.size(2)) #######\n",
    "      \n",
    "\n",
    "        last_layer = self.last_layer(lstm_out)   ######################\n",
    "        return last_layer, new_state\n",
    "    def setup_first_layer(self,batch_length):\n",
    "        return (torch.zeros(self.rnn_layers, batch_length, self.hidden_size).to(device),\n",
    "                torch.zeros(self.rnn_layers, batch_length, self.hidden_size).to(device))\n",
    "\n",
    "\n",
    "\n",
    "\n",
    "      \n",
    "\n",
    "\n",
    "\n",
    "\n",
    "      "
   ]
  },
  {
   "cell_type": "code",
   "execution_count": 27,
   "id": "67ae3335",
   "metadata": {
    "execution": {
     "iopub.execute_input": "2022-09-29T04:20:24.236477Z",
     "iopub.status.busy": "2022-09-29T04:20:24.236185Z",
     "iopub.status.idle": "2022-09-29T04:20:28.607865Z",
     "shell.execute_reply": "2022-09-29T04:20:28.606859Z"
    },
    "papermill": {
     "duration": 4.389485,
     "end_time": "2022-09-29T04:20:28.610212",
     "exception": false,
     "start_time": "2022-09-29T04:20:24.220727",
     "status": "completed"
    },
    "tags": []
   },
   "outputs": [],
   "source": [
    "vocabulary_size = len(vocabulary)\n",
    "\n",
    "lstm_model = LSTMModel(embedding_dim, hidden_dim, vocabulary_size,rnn_layers).to(device)\n",
    "criterion = nn.CrossEntropyLoss().to(device)\n",
    "optimizer = torch.optim.Adam(lstm_model.parameters(), lr=learning_rate)"
   ]
  },
  {
   "cell_type": "code",
   "execution_count": 28,
   "id": "827fdac2",
   "metadata": {
    "execution": {
     "iopub.execute_input": "2022-09-29T04:20:28.642457Z",
     "iopub.status.busy": "2022-09-29T04:20:28.641069Z",
     "iopub.status.idle": "2022-09-29T04:20:29.670915Z",
     "shell.execute_reply": "2022-09-29T04:20:29.669326Z"
    },
    "id": "bKmSqQoRm-lQ",
    "papermill": {
     "duration": 1.047671,
     "end_time": "2022-09-29T04:20:29.673112",
     "exception": false,
     "start_time": "2022-09-29T04:20:28.625441",
     "status": "completed"
    },
    "tags": []
   },
   "outputs": [
    {
     "name": "stdout",
     "output_type": "stream",
     "text": [
      "torch.Size([100, 10])\n",
      "torch.Size([100, 10])\n",
      "torch.Size([1, 100, 1024])\n",
      "Input shape:       torch.Size([100, 10])\n",
      "Prediction shape:  torch.Size([1000, 34044])\n",
      "2\n"
     ]
    }
   ],
   "source": [
    "#check the shape of the model\n",
    "x, y = create_training_samples(sequence_length,vectorized_train_list, batch_length)\n",
    "print(x.shape)\n",
    "print(y.shape)\n",
    "prev_state = lstm_model.setup_first_layer(batch_length)\n",
    "print(prev_state[0].shape)\n",
    "x=x.to(device)\n",
    "pred,_ = lstm_model(x,prev_state)\n",
    "print(\"Input shape:      \", x.shape)\n",
    "print(\"Prediction shape: \", pred.shape)\n",
    "print(len(prev_state))"
   ]
  },
  {
   "cell_type": "code",
   "execution_count": 29,
   "id": "4cdeb3f6",
   "metadata": {
    "execution": {
     "iopub.execute_input": "2022-09-29T04:20:29.707849Z",
     "iopub.status.busy": "2022-09-29T04:20:29.707031Z",
     "iopub.status.idle": "2022-09-29T04:20:29.737046Z",
     "shell.execute_reply": "2022-09-29T04:20:29.735999Z"
    },
    "id": "XENeeN66bX3a",
    "papermill": {
     "duration": 0.051048,
     "end_time": "2022-09-29T04:20:29.739511",
     "exception": false,
     "start_time": "2022-09-29T04:20:29.688463",
     "status": "completed"
    },
    "tags": []
   },
   "outputs": [
    {
     "name": "stdout",
     "output_type": "stream",
     "text": [
      "torch.Size([1000])\n",
      "tensor(10.4397, device='cuda:0', grad_fn=<NllLossBackward0>)\n"
     ]
    }
   ],
   "source": [
    "yshaped = y.reshape(-1).to(device)\n",
    "loss = criterion(pred,yshaped)\n",
    "\n",
    "print(yshaped.shape)\n",
    "print(loss)\n"
   ]
  },
  {
   "cell_type": "code",
   "execution_count": 30,
   "id": "35bb49d3",
   "metadata": {
    "execution": {
     "iopub.execute_input": "2022-09-29T04:20:29.770823Z",
     "iopub.status.busy": "2022-09-29T04:20:29.770553Z",
     "iopub.status.idle": "2022-09-29T05:07:06.630668Z",
     "shell.execute_reply": "2022-09-29T05:07:06.629479Z"
    },
    "id": "iGvNcZZGDn5O",
    "papermill": {
     "duration": 2796.893803,
     "end_time": "2022-09-29T05:07:06.648657",
     "exception": false,
     "start_time": "2022-09-29T04:20:29.754854",
     "status": "completed"
    },
    "tags": []
   },
   "outputs": [
    {
     "name": "stdout",
     "output_type": "stream",
     "text": [
      "Epoch=  0  time taken= 907.3569383621216\n",
      "Epoch=  0   Training Loss=  7.042280877686578   Validation Loss=  6.62493659917859\n",
      "Epoch=  0   Training perplexity=  131.80678958975895   Validation perplexity=  98.69715537568229\n",
      "Epoch=  1  time taken= 906.8061554431915\n",
      "Epoch=  1   Training Loss=  6.195534879244679   Validation Loss=  6.47431256916212\n",
      "Epoch=  1   Training perplexity=  73.28951333193946   Validation perplexity=  88.91239004366022\n",
      "Epoch=  2  time taken= 907.1368417739868\n",
      "Epoch=  2   Training Loss=  5.742504903783129   Validation Loss=  6.425922004036281\n",
      "Epoch=  2   Training perplexity=  53.53850332717728   Validation perplexity=  85.97957083428501\n"
     ]
    }
   ],
   "source": [
    "\n",
    "#train the model\n",
    "from torch.nn.utils import clip_grad_norm_\n",
    "\n",
    "\n",
    "#toy_wiki_datatest = Wikitext(vectorized_train_list[0:10],sequence_length)\n",
    "#toy_train_loader = DataLoader(dataset=toy_wiki_datatest,batch_size=batch_length)\n",
    "\n",
    "\n",
    "\n",
    "\n",
    "epoch_train_time=[]\n",
    "epoch_train_perplexitiy=[]\n",
    "epoch_validation_perplexitiy=[]\n",
    "epoch_test_perplexitiy=[]\n",
    "\n",
    "for epoch in range(num_of_epochs):\n",
    "  start_time = time.time()\n",
    "  lstm_model.train()\n",
    "  current_epoch_train_loss = 0\n",
    "  batch_number = 1\n",
    "  for x,y in train_loader:\n",
    "      x=x.to(device)\n",
    "      y=y.to(device)\n",
    "      #print(x,y)\n",
    "      prev_states = lstm_model.setup_first_layer(batch_length)\n",
    "      optimizer.zero_grad()\n",
    "      pred,new_state = lstm_model(x,prev_states)\n",
    "\n",
    "      new_state[0].detach() ###############################\n",
    "      new_state[1].detach() ###############################\n",
    "\n",
    "      yshaped = y.reshape(-1).to(device)\n",
    "      loss = criterion(pred,yshaped)\n",
    "      current_epoch_train_loss+=loss.item()\n",
    "      loss.backward()\n",
    "      clip_grad_norm_(lstm_model.parameters(), 0.5)\n",
    "      optimizer.step()\n",
    "      #print('epoch=',epoch,' loss=',loss.item(),' perplexity=',pow(2,loss.item()),' batch_number=',batch_number,\" total=\",len(train_loader))\n",
    "      batch_number+=1\n",
    "      if batch_number==len(train_loader): break\n",
    "\n",
    "  end_time = time.time()\n",
    "  \n",
    "  #print(\"train loss=\",current_epoch_train_loss/ len(train_loader),' perplexity=',train_perplexity,' time=',start-end)\n",
    "\n",
    "\n",
    "  lstm_model.eval()\n",
    "  current_epoch_valid_loss = 0\n",
    "  batch_number = 1\n",
    " \n",
    "  for x,y in validation_loader:\n",
    "    x=x.to(device)\n",
    "    y=y.to(device)\n",
    "    pred,new_state = lstm_model(x,prev_states)\n",
    "    yshaped = y.reshape(-1).to(device)\n",
    "    loss = criterion(pred,yshaped)\n",
    "    current_epoch_valid_loss+=loss.item()\n",
    "    #print(\"validation loss=\",loss.item(),' perplexity=',pow(2,loss.item()),' batch_number=',batch_number,\" total=\",len(validation_loader))\n",
    "    batch_number+=1\n",
    "    if batch_number==len(validation_loader): break\n",
    "  \n",
    "\n",
    "\n",
    "\n",
    "        \n",
    "  train_perplexity = pow(2,current_epoch_train_loss/ len(train_loader))\n",
    "  validation_perplexity = pow(2,current_epoch_valid_loss/len(validation_loader))\n",
    "  #test_perplexity = pow(2,current_epoch_test_loss/len(test_loader))\n",
    "\n",
    "  epoch_train_perplexitiy.append(train_perplexity)\n",
    "  epoch_validation_perplexitiy.append(validation_perplexity)\n",
    "  #epoch_test_perplexitiy.append(test_perplexity)\n",
    "    \n",
    "  time_elapse = end_time-start_time  \n",
    "  epoch_train_time.append(time_elapse)\n",
    "  print('Epoch= ',epoch, ' time taken=',time_elapse)\n",
    "  print('Epoch= ',epoch,'  Training Loss= ',current_epoch_train_loss / len(train_loader),'  Validation Loss= ',current_epoch_valid_loss / len(validation_loader)) #,'  Test Loss= ',current_epoch_test_loss/ len(test_loader))\n",
    "  print('Epoch= ',epoch,'  Training perplexity= ',train_perplexity,'  Validation perplexity= ',validation_perplexity) #,'  Test perplexity= ',test_perplexity)\n",
    "  \n",
    "\n",
    "\n",
    "\n",
    "    \n",
    "\n",
    "\n",
    "\n"
   ]
  },
  {
   "cell_type": "code",
   "execution_count": 31,
   "id": "917c0ecb",
   "metadata": {
    "execution": {
     "iopub.execute_input": "2022-09-29T05:07:06.681458Z",
     "iopub.status.busy": "2022-09-29T05:07:06.681145Z",
     "iopub.status.idle": "2022-09-29T05:07:34.695290Z",
     "shell.execute_reply": "2022-09-29T05:07:34.694301Z"
    },
    "papermill": {
     "duration": 28.033147,
     "end_time": "2022-09-29T05:07:34.697936",
     "exception": false,
     "start_time": "2022-09-29T05:07:06.664789",
     "status": "completed"
    },
    "tags": []
   },
   "outputs": [],
   "source": [
    "  #test the model\n",
    "lstm_model.eval()\n",
    "current_epoch_test_loss = 0\n",
    "batch_number = 1\n",
    "for x,y in test_loader:\n",
    "    x=x.to(device)\n",
    "    y=y.to(device)\n",
    "    pred,new_state = lstm_model(x,prev_states)\n",
    "    yshaped = y.reshape(-1).to(device)\n",
    "    loss = criterion(pred,yshaped)\n",
    "    current_epoch_test_loss+=loss.item()\n",
    "    #print(\"test loss=\",loss.item(),' perplexity=',pow(2,loss.item()),' batch_number=',batch_number,\" total=\",len(test_loader))\n",
    "    batch_number+=1\n",
    "    if batch_number==len(test_loader): break\n",
    " "
   ]
  },
  {
   "cell_type": "code",
   "execution_count": 32,
   "id": "e3fc05e4",
   "metadata": {
    "execution": {
     "iopub.execute_input": "2022-09-29T05:07:34.729963Z",
     "iopub.status.busy": "2022-09-29T05:07:34.729669Z",
     "iopub.status.idle": "2022-09-29T05:07:34.734812Z",
     "shell.execute_reply": "2022-09-29T05:07:34.733882Z"
    },
    "papermill": {
     "duration": 0.02356,
     "end_time": "2022-09-29T05:07:34.737090",
     "exception": false,
     "start_time": "2022-09-29T05:07:34.713530",
     "status": "completed"
    },
    "tags": []
   },
   "outputs": [
    {
     "name": "stdout",
     "output_type": "stream",
     "text": [
      "[907.3569383621216, 906.8061554431915, 907.1368417739868]\n",
      "[131.80678958975895, 73.28951333193946, 53.53850332717728]\n",
      "[98.69715537568229, 88.91239004366022, 85.97957083428501]\n"
     ]
    }
   ],
   "source": [
    "print(epoch_train_time)\n",
    "print(epoch_train_perplexitiy)\n",
    "print(epoch_validation_perplexitiy)\n"
   ]
  },
  {
   "cell_type": "markdown",
   "id": "bd8a62f8",
   "metadata": {
    "papermill": {
     "duration": 0.014858,
     "end_time": "2022-09-29T05:07:34.766899",
     "exception": false,
     "start_time": "2022-09-29T05:07:34.752041",
     "status": "completed"
    },
    "tags": []
   },
   "source": [
    "**Development perplexity vs number of epoch**"
   ]
  },
  {
   "cell_type": "code",
   "execution_count": 33,
   "id": "6f2ce87e",
   "metadata": {
    "execution": {
     "iopub.execute_input": "2022-09-29T05:07:34.798432Z",
     "iopub.status.busy": "2022-09-29T05:07:34.798138Z",
     "iopub.status.idle": "2022-09-29T05:07:35.010226Z",
     "shell.execute_reply": "2022-09-29T05:07:35.009219Z"
    },
    "id": "rgEUWgA2aRKU",
    "papermill": {
     "duration": 0.230391,
     "end_time": "2022-09-29T05:07:35.012385",
     "exception": false,
     "start_time": "2022-09-29T05:07:34.781994",
     "status": "completed"
    },
    "tags": []
   },
   "outputs": [
    {
     "data": {
      "image/png": "[encoded data removed]",
      "text/plain": [
       "<Figure size 432x288 with 1 Axes>"
      ]
     },
     "metadata": {
      "needs_background": "light"
     },
     "output_type": "display_data"
    }
   ],
   "source": [
    "#import matplotlib.pyplot as plt\n",
    "#epoch_validation_perplexitiy = [68.8583711783414, 75.50595363432315]\n",
    "x = range(1,len(epoch_validation_perplexitiy)+1)\n",
    " \n",
    "y =epoch_validation_perplexitiy\n",
    " \n",
    "plt.scatter(x, y)\n",
    "plt.xlabel('# of epoch')\n",
    "plt.ylabel('Development perplexity')\n",
    " \n",
    "# To show the plot\n",
    "plt.show()"
   ]
  },
  {
   "cell_type": "markdown",
   "id": "7b3bdb25",
   "metadata": {
    "papermill": {
     "duration": 0.014921,
     "end_time": "2022-09-29T05:07:35.042730",
     "exception": false,
     "start_time": "2022-09-29T05:07:35.027809",
     "status": "completed"
    },
    "tags": []
   },
   "source": [
    "**Test perplexity**"
   ]
  },
  {
   "cell_type": "code",
   "execution_count": 34,
   "id": "a95a4af8",
   "metadata": {
    "execution": {
     "iopub.execute_input": "2022-09-29T05:07:35.074585Z",
     "iopub.status.busy": "2022-09-29T05:07:35.073803Z",
     "iopub.status.idle": "2022-09-29T05:07:35.080599Z",
     "shell.execute_reply": "2022-09-29T05:07:35.079531Z"
    },
    "papermill": {
     "duration": 0.025322,
     "end_time": "2022-09-29T05:07:35.083118",
     "exception": false,
     "start_time": "2022-09-29T05:07:35.057796",
     "status": "completed"
    },
    "tags": []
   },
   "outputs": [
    {
     "name": "stdout",
     "output_type": "stream",
     "text": [
      "84.29105215535381\n"
     ]
    }
   ],
   "source": [
    "test_perplexity = pow(2,current_epoch_test_loss/len(test_loader)) \n",
    "print(test_perplexity)"
   ]
  },
  {
   "cell_type": "markdown",
   "id": "c18eac88",
   "metadata": {
    "papermill": {
     "duration": 0.015118,
     "end_time": "2022-09-29T05:07:35.113775",
     "exception": false,
     "start_time": "2022-09-29T05:07:35.098657",
     "status": "completed"
    },
    "tags": []
   },
   "source": [
    "**Comparison bwteen neural model and ngrams**\n",
    "<br />Below the comparison of test perplexity between  neural model and ngrams are provided. Neural model is better for both unigram and bigram. However, trigram out performs neural model. I think this is because of hyperparameters tuning and small epoch numbers. If we do a grid search, it neural model may provide better result.\n"
   ]
  },
  {
   "cell_type": "code",
   "execution_count": 35,
   "id": "1548e674",
   "metadata": {
    "execution": {
     "iopub.execute_input": "2022-09-29T05:07:35.145811Z",
     "iopub.status.busy": "2022-09-29T05:07:35.145042Z",
     "iopub.status.idle": "2022-09-29T05:07:35.519309Z",
     "shell.execute_reply": "2022-09-29T05:07:35.518444Z"
    },
    "papermill": {
     "duration": 0.392111,
     "end_time": "2022-09-29T05:07:35.521291",
     "exception": false,
     "start_time": "2022-09-29T05:07:35.129180",
     "status": "completed"
    },
    "tags": []
   },
   "outputs": [
    {
     "data": {
      "image/png": "[encoded data removed]",
      "text/plain": [
       "<Figure size 1080x360 with 3 Axes>"
      ]
     },
     "metadata": {
      "needs_background": "light"
     },
     "output_type": "display_data"
    }
   ],
   "source": [
    "#test_perplexity=86.5595848981394\n",
    "#epoch_train_time=[908.010972738266, 908.2025105953217]\n",
    "fig, ( ax1, ax2,ax3) = plt.subplots(1, 3,figsize=(15, 5))\n",
    "x=['Neural model','unigram(k=1)','unigram(k=.1)','unigram(k=.05)','unigram(k=.01)']\n",
    "y=[test_perplexity]+unigram_test_perplexity\n",
    "ax1.bar(x,y)\n",
    "ax1.set_title('Neural model vs unigram')\n",
    "\n",
    "x=['Neural model','bigram(k=1)','bigram(k=.1)','bigram(k=.05)','bigram(k=.01)']\n",
    "y=[test_perplexity]+bigram_test_perplexity\n",
    "ax2.bar(x,y)\n",
    "ax2.set_title('Neural model vs bigram')\n",
    "\n",
    "\n",
    "\n",
    "x=['Neural model','trigram(k=1)','trigram(k=.1)','trigram(k=.05)','trigram(k=.01)']\n",
    "y=[test_perplexity]+trigram_test_perpplexity\n",
    "ax3.bar(x,y)\n",
    "ax3.set_title('Neural model vs trigram')\n",
    "\n",
    "ax1.set_ylabel('test perplexity')\n",
    "ax2.set_ylabel('test perplexity')\n",
    "ax3.set_ylabel('test perplexity')\n",
    "\n",
    "ax1.tick_params(axis='x', labelrotation=90)\n",
    "ax2.tick_params(axis='x', labelrotation=90)\n",
    "ax3.tick_params(axis='x', labelrotation=90)\n",
    "\n",
    "fig.suptitle('Comparison of test perplexity', fontsize=16)\n",
    "\n",
    "plt.show()\n",
    "\n",
    "\n"
   ]
  },
  {
   "cell_type": "markdown",
   "id": "0a31e68f",
   "metadata": {
    "papermill": {
     "duration": 0.015441,
     "end_time": "2022-09-29T05:07:35.552629",
     "exception": false,
     "start_time": "2022-09-29T05:07:35.537188",
     "status": "completed"
    },
    "tags": []
   },
   "source": [
    "Though neural model provides promising result, it is time consuming. Below is the comarison between neural model and ngrams trainging time "
   ]
  },
  {
   "cell_type": "code",
   "execution_count": 36,
   "id": "190d372a",
   "metadata": {
    "execution": {
     "iopub.execute_input": "2022-09-29T05:07:35.585367Z",
     "iopub.status.busy": "2022-09-29T05:07:35.584537Z",
     "iopub.status.idle": "2022-09-29T05:07:35.743700Z",
     "shell.execute_reply": "2022-09-29T05:07:35.743051Z"
    },
    "papermill": {
     "duration": 0.177539,
     "end_time": "2022-09-29T05:07:35.745597",
     "exception": false,
     "start_time": "2022-09-29T05:07:35.568058",
     "status": "completed"
    },
    "tags": []
   },
   "outputs": [
    {
     "data": {
      "image/png": "[encoded data removed]",
      "text/plain": [
       "<Figure size 432x288 with 1 Axes>"
      ]
     },
     "metadata": {
      "needs_background": "light"
     },
     "output_type": "display_data"
    }
   ],
   "source": [
    "\n",
    "epoch_train_time_mean=sum(epoch_train_time) / len(epoch_train_time)\n",
    "ngram_time\n",
    "plt.bar(['Neural model','unigram','bigram','trigram'],[epoch_train_time_mean]+ngram_time)\n",
    "plt.ylabel('training time in second')\n",
    "plt.title('Comparison of training time',fontsize=16)\n",
    "plt.show()"
   ]
  },
  {
   "cell_type": "markdown",
   "id": "86b09b16",
   "metadata": {
    "papermill": {
     "duration": 0.016004,
     "end_time": "2022-09-29T05:07:35.777919",
     "exception": false,
     "start_time": "2022-09-29T05:07:35.761915",
     "status": "completed"
    },
    "tags": []
   },
   "source": [
    "In conclusion, though Neural model takes time, with correct hyperparameters and computational resource it is very promising. For example, if I better tune the hyper parameters (using grid search, random search or bayesian technique) and run more epochs, the neural model will be better hopefully. Dropout layer can also be used to overcome overfitting. "
   ]
  }
 ],
 "metadata": {
  "kernelspec": {
   "display_name": "Python 3",
   "language": "python",
   "name": "python3"
  },
  "language_info": {
   "codemirror_mode": {
    "name": "ipython",
    "version": 3
   },
   "file_extension": ".py",
   "mimetype": "text/x-python",
   "name": "python",
   "nbconvert_exporter": "python",
   "pygments_lexer": "ipython3",
   "version": "3.7.12"
  },
  "papermill": {
   "default_parameters": {},
   "duration": 2944.312671,
   "end_time": "2022-09-29T05:07:37.923768",
   "environment_variables": {},
   "exception": null,
   "input_path": "__notebook__.ipynb",
   "output_path": "__notebook__.ipynb",
   "parameters": {},
   "start_time": "2022-09-29T04:18:33.611097",
   "version": "2.3.4"
  },
  "widgets": {
   "application/vnd.jupyter.widget-state+json": {
    "state": {
     "03e5d913a7044dc2a38d9a137b10d6a5": {
      "model_module": "@jupyter-widgets/controls",
      "model_module_version": "1.5.0",
      "model_name": "FloatProgressModel",
      "state": {
       "_dom_classes": [],
       "_model_module": "@jupyter-widgets/controls",
       "_model_module_version": "1.5.0",
       "_model_name": "FloatProgressModel",
       "_view_count": null,
       "_view_module": "@jupyter-widgets/controls",
       "_view_module_version": "1.5.0",
       "_view_name": "ProgressView",
       "bar_style": "",
       "description": "",
       "description_tooltip": null,
       "layout": "IPY_MODEL_bf435faca0634bc6b6c2a7841d376c0b",
       "max": 4358.0,
       "min": 0.0,
       "orientation": "horizontal",
       "style": "IPY_MODEL_85bd44bd650b4e06b84b93e9e6944092",
       "value": 4358.0
      }
     },
     "040fcd18b05345388f462df50576ebf1": {
      "model_module": "@jupyter-widgets/base",
      "model_module_version": "1.2.0",
      "model_name": "LayoutModel",
      "state": {
       "_model_module": "@jupyter-widgets/base",
       "_model_module_version": "1.2.0",
       "_model_name": "LayoutModel",
       "_view_count": null,
       "_view_module": "@jupyter-widgets/base",
       "_view_module_version": "1.2.0",
       "_view_name": "LayoutView",
       "align_content": null,
       "align_items": null,
       "align_self": null,
       "border": null,
       "bottom": null,
       "display": null,
       "flex": null,
       "flex_flow": null,
       "grid_area": null,
       "grid_auto_columns": null,
       "grid_auto_flow": null,
       "grid_auto_rows": null,
       "grid_column": null,
       "grid_gap": null,
       "grid_row": null,
       "grid_template_areas": null,
       "grid_template_columns": null,
       "grid_template_rows": null,
       "height": null,
       "justify_content": null,
       "justify_items": null,
       "left": null,
       "margin": null,
       "max_height": null,
       "max_width": null,
       "min_height": null,
       "min_width": null,
       "object_fit": null,
       "object_position": null,
       "order": null,
       "overflow": null,
       "overflow_x": null,
       "overflow_y": null,
       "padding": null,
       "right": null,
       "top": null,
       "visibility": null,
       "width": null
      }
     },
     "09c418380c114565ad729138ef5441cb": {
      "model_module": "@jupyter-widgets/controls",
      "model_module_version": "1.5.0",
      "model_name": "FloatProgressModel",
      "state": {
       "_dom_classes": [],
       "_model_module": "@jupyter-widgets/controls",
       "_model_module_version": "1.5.0",
       "_model_name": "FloatProgressModel",
       "_view_count": null,
       "_view_module": "@jupyter-widgets/controls",
       "_view_module_version": "1.5.0",
       "_view_name": "ProgressView",
       "bar_style": "success",
       "description": "",
       "description_tooltip": null,
       "layout": "IPY_MODEL_88833078ab7f43a28f23f47b82cf14a5",
       "max": 1250.0,
       "min": 0.0,
       "orientation": "horizontal",
       "style": "IPY_MODEL_de5c76fa146f40d783103c967b94cb87",
       "value": 1250.0
      }
     },
     "0bef84bafa254bc18d5de117464c3dd6": {
      "model_module": "@jupyter-widgets/controls",
      "model_module_version": "1.5.0",
      "model_name": "DescriptionStyleModel",
      "state": {
       "_model_module": "@jupyter-widgets/controls",
       "_model_module_version": "1.5.0",
       "_model_name": "DescriptionStyleModel",
       "_view_count": null,
       "_view_module": "@jupyter-widgets/base",
       "_view_module_version": "1.2.0",
       "_view_name": "StyleView",
       "description_width": ""
      }
     },
     "0c3c89e4a3854631b406219bb07ee1ac": {
      "model_module": "@jupyter-widgets/controls",
      "model_module_version": "1.5.0",
      "model_name": "DescriptionStyleModel",
      "state": {
       "_model_module": "@jupyter-widgets/controls",
       "_model_module_version": "1.5.0",
       "_model_name": "DescriptionStyleModel",
       "_view_count": null,
       "_view_module": "@jupyter-widgets/base",
       "_view_module_version": "1.2.0",
       "_view_name": "StyleView",
       "description_width": ""
      }
     },
     "0f578109c17b49b9888fed7af6baa73e": {
      "model_module": "@jupyter-widgets/controls",
      "model_module_version": "1.5.0",
      "model_name": "HBoxModel",
      "state": {
       "_dom_classes": [],
       "_model_module": "@jupyter-widgets/controls",
       "_model_module_version": "1.5.0",
       "_model_name": "HBoxModel",
       "_view_count": null,
       "_view_module": "@jupyter-widgets/controls",
       "_view_module_version": "1.5.0",
       "_view_name": "HBoxView",
       "box_style": "",
       "children": [
        "IPY_MODEL_1c71cf6f42364293814740fa7cc73809",
        "IPY_MODEL_4927395658fd4c978936e4de64347f7b",
        "IPY_MODEL_533c1e5d8dd64b0c99a852235736f946"
       ],
       "layout": "IPY_MODEL_da9ba43d76894dee88b2475576cbc5c6"
      }
     },
     "1c71cf6f42364293814740fa7cc73809": {
      "model_module": "@jupyter-widgets/controls",
      "model_module_version": "1.5.0",
      "model_name": "HTMLModel",
      "state": {
       "_dom_classes": [],
       "_model_module": "@jupyter-widgets/controls",
       "_model_module_version": "1.5.0",
       "_model_name": "HTMLModel",
       "_view_count": null,
       "_view_module": "@jupyter-widgets/controls",
       "_view_module_version": "1.5.0",
       "_view_name": "HTMLView",
       "description": "",
       "description_tooltip": null,
       "layout": "IPY_MODEL_728145757f464da990d31eb2102b0957",
       "placeholder": "​",
       "style": "IPY_MODEL_419757b215dd48e68a94e4bd0b0f031a",
       "value": "Generating train split:  88%"
      }
     },
     "1e9ff9ee2df4416db36123a3c8ec8f8a": {
      "model_module": "@jupyter-widgets/controls",
      "model_module_version": "1.5.0",
      "model_name": "DescriptionStyleModel",
      "state": {
       "_model_module": "@jupyter-widgets/controls",
       "_model_module_version": "1.5.0",
       "_model_name": "DescriptionStyleModel",
       "_view_count": null,
       "_view_module": "@jupyter-widgets/base",
       "_view_module_version": "1.2.0",
       "_view_name": "StyleView",
       "description_width": ""
      }
     },
     "234823f7c769473d9e3f6bfdc62dc5c4": {
      "model_module": "@jupyter-widgets/base",
      "model_module_version": "1.2.0",
      "model_name": "LayoutModel",
      "state": {
       "_model_module": "@jupyter-widgets/base",
       "_model_module_version": "1.2.0",
       "_model_name": "LayoutModel",
       "_view_count": null,
       "_view_module": "@jupyter-widgets/base",
       "_view_module_version": "1.2.0",
       "_view_name": "LayoutView",
       "align_content": null,
       "align_items": null,
       "align_self": null,
       "border": null,
       "bottom": null,
       "display": null,
       "flex": null,
       "flex_flow": null,
       "grid_area": null,
       "grid_auto_columns": null,
       "grid_auto_flow": null,
       "grid_auto_rows": null,
       "grid_column": null,
       "grid_gap": null,
       "grid_row": null,
       "grid_template_areas": null,
       "grid_template_columns": null,
       "grid_template_rows": null,
       "height": null,
       "justify_content": null,
       "justify_items": null,
       "left": null,
       "margin": null,
       "max_height": null,
       "max_width": null,
       "min_height": null,
       "min_width": null,
       "object_fit": null,
       "object_position": null,
       "order": null,
       "overflow": null,
       "overflow_x": null,
       "overflow_y": null,
       "padding": null,
       "right": null,
       "top": null,
       "visibility": null,
       "width": null
      }
     },
     "295b1af9607d4d48be4be84b097cb765": {
      "model_module": "@jupyter-widgets/controls",
      "model_module_version": "1.5.0",
      "model_name": "FloatProgressModel",
      "state": {
       "_dom_classes": [],
       "_model_module": "@jupyter-widgets/controls",
       "_model_module_version": "1.5.0",
       "_model_name": "FloatProgressModel",
       "_view_count": null,
       "_view_module": "@jupyter-widgets/controls",
       "_view_module_version": "1.5.0",
       "_view_name": "ProgressView",
       "bar_style": "success",
       "description": "",
       "description_tooltip": null,
       "layout": "IPY_MODEL_481dcf3c8e8847cd9409a43352d11c33",
       "max": 3.0,
       "min": 0.0,
       "orientation": "horizontal",
       "style": "IPY_MODEL_be27812e785a44fda1f69678265b52f0",
       "value": 3.0
      }
     },
     "2b1ff6a70039428cabb5d3aae28cefee": {
      "model_module": "@jupyter-widgets/controls",
      "model_module_version": "1.5.0",
      "model_name": "ProgressStyleModel",
      "state": {
       "_model_module": "@jupyter-widgets/controls",
       "_model_module_version": "1.5.0",
       "_model_name": "ProgressStyleModel",
       "_view_count": null,
       "_view_module": "@jupyter-widgets/base",
       "_view_module_version": "1.2.0",
       "_view_name": "StyleView",
       "bar_color": null,
       "description_width": ""
      }
     },
     "2c22938a373049ae99facb0ed2e676bc": {
      "model_module": "@jupyter-widgets/base",
      "model_module_version": "1.2.0",
      "model_name": "LayoutModel",
      "state": {
       "_model_module": "@jupyter-widgets/base",
       "_model_module_version": "1.2.0",
       "_model_name": "LayoutModel",
       "_view_count": null,
       "_view_module": "@jupyter-widgets/base",
       "_view_module_version": "1.2.0",
       "_view_name": "LayoutView",
       "align_content": null,
       "align_items": null,
       "align_self": null,
       "border": null,
       "bottom": null,
       "display": null,
       "flex": null,
       "flex_flow": null,
       "grid_area": null,
       "grid_auto_columns": null,
       "grid_auto_flow": null,
       "grid_auto_rows": null,
       "grid_column": null,
       "grid_gap": null,
       "grid_row": null,
       "grid_template_areas": null,
       "grid_template_columns": null,
       "grid_template_rows": null,
       "height": null,
       "justify_content": null,
       "justify_items": null,
       "left": null,
       "margin": null,
       "max_height": null,
       "max_width": null,
       "min_height": null,
       "min_width": null,
       "object_fit": null,
       "object_position": null,
       "order": null,
       "overflow": null,
       "overflow_x": null,
       "overflow_y": null,
       "padding": null,
       "right": null,
       "top": null,
       "visibility": null,
       "width": null
      }
     },
     "30a743ee953f4d63910027fcc0132b75": {
      "model_module": "@jupyter-widgets/controls",
      "model_module_version": "1.5.0",
      "model_name": "DescriptionStyleModel",
      "state": {
       "_model_module": "@jupyter-widgets/controls",
       "_model_module_version": "1.5.0",
       "_model_name": "DescriptionStyleModel",
       "_view_count": null,
       "_view_module": "@jupyter-widgets/base",
       "_view_module_version": "1.2.0",
       "_view_name": "StyleView",
       "description_width": ""
      }
     },
     "31207890ab874cdfa5c200ab50d2bbfc": {
      "model_module": "@jupyter-widgets/controls",
      "model_module_version": "1.5.0",
      "model_name": "ProgressStyleModel",
      "state": {
       "_model_module": "@jupyter-widgets/controls",
       "_model_module_version": "1.5.0",
       "_model_name": "ProgressStyleModel",
       "_view_count": null,
       "_view_module": "@jupyter-widgets/base",
       "_view_module_version": "1.2.0",
       "_view_name": "StyleView",
       "bar_color": null,
       "description_width": ""
      }
     },
     "35cc56b144244d1f9ee8b30c563d4738": {
      "model_module": "@jupyter-widgets/controls",
      "model_module_version": "1.5.0",
      "model_name": "DescriptionStyleModel",
      "state": {
       "_model_module": "@jupyter-widgets/controls",
       "_model_module_version": "1.5.0",
       "_model_name": "DescriptionStyleModel",
       "_view_count": null,
       "_view_module": "@jupyter-widgets/base",
       "_view_module_version": "1.2.0",
       "_view_name": "StyleView",
       "description_width": ""
      }
     },
     "3fcc4cb04a1640ee9ea8a694238fd50a": {
      "model_module": "@jupyter-widgets/controls",
      "model_module_version": "1.5.0",
      "model_name": "DescriptionStyleModel",
      "state": {
       "_model_module": "@jupyter-widgets/controls",
       "_model_module_version": "1.5.0",
       "_model_name": "DescriptionStyleModel",
       "_view_count": null,
       "_view_module": "@jupyter-widgets/base",
       "_view_module_version": "1.2.0",
       "_view_name": "StyleView",
       "description_width": ""
      }
     },
     "419757b215dd48e68a94e4bd0b0f031a": {
      "model_module": "@jupyter-widgets/controls",
      "model_module_version": "1.5.0",
      "model_name": "DescriptionStyleModel",
      "state": {
       "_model_module": "@jupyter-widgets/controls",
       "_model_module_version": "1.5.0",
       "_model_name": "DescriptionStyleModel",
       "_view_count": null,
       "_view_module": "@jupyter-widgets/base",
       "_view_module_version": "1.2.0",
       "_view_name": "StyleView",
       "description_width": ""
      }
     },
     "41d9b9cb728f4283b3c77f88143d133d": {
      "model_module": "@jupyter-widgets/controls",
      "model_module_version": "1.5.0",
      "model_name": "HTMLModel",
      "state": {
       "_dom_classes": [],
       "_model_module": "@jupyter-widgets/controls",
       "_model_module_version": "1.5.0",
       "_model_name": "HTMLModel",
       "_view_count": null,
       "_view_module": "@jupyter-widgets/controls",
       "_view_module_version": "1.5.0",
       "_view_name": "HTMLView",
       "description": "",
       "description_tooltip": null,
       "layout": "IPY_MODEL_fc2291a52f5342339f0e0a1239fad6d8",
       "placeholder": "​",
       "style": "IPY_MODEL_d3c781cf942e4db4aa5528ded64adbd2",
       "value": " 0/3760 [00:00&lt;?, ? examples/s]"
      }
     },
     "481dcf3c8e8847cd9409a43352d11c33": {
      "model_module": "@jupyter-widgets/base",
      "model_module_version": "1.2.0",
      "model_name": "LayoutModel",
      "state": {
       "_model_module": "@jupyter-widgets/base",
       "_model_module_version": "1.2.0",
       "_model_name": "LayoutModel",
       "_view_count": null,
       "_view_module": "@jupyter-widgets/base",
       "_view_module_version": "1.2.0",
       "_view_name": "LayoutView",
       "align_content": null,
       "align_items": null,
       "align_self": null,
       "border": null,
       "bottom": null,
       "display": null,
       "flex": null,
       "flex_flow": null,
       "grid_area": null,
       "grid_auto_columns": null,
       "grid_auto_flow": null,
       "grid_auto_rows": null,
       "grid_column": null,
       "grid_gap": null,
       "grid_row": null,
       "grid_template_areas": null,
       "grid_template_columns": null,
       "grid_template_rows": null,
       "height": null,
       "justify_content": null,
       "justify_items": null,
       "left": null,
       "margin": null,
       "max_height": null,
       "max_width": null,
       "min_height": null,
       "min_width": null,
       "object_fit": null,
       "object_position": null,
       "order": null,
       "overflow": null,
       "overflow_x": null,
       "overflow_y": null,
       "padding": null,
       "right": null,
       "top": null,
       "visibility": null,
       "width": null
      }
     },
     "4927395658fd4c978936e4de64347f7b": {
      "model_module": "@jupyter-widgets/controls",
      "model_module_version": "1.5.0",
      "model_name": "FloatProgressModel",
      "state": {
       "_dom_classes": [],
       "_model_module": "@jupyter-widgets/controls",
       "_model_module_version": "1.5.0",
       "_model_name": "FloatProgressModel",
       "_view_count": null,
       "_view_module": "@jupyter-widgets/controls",
       "_view_module_version": "1.5.0",
       "_view_name": "ProgressView",
       "bar_style": "",
       "description": "",
       "description_tooltip": null,
       "layout": "IPY_MODEL_5f2a5f8e34cb4e448936fd35f2ba3e5a",
       "max": 36718.0,
       "min": 0.0,
       "orientation": "horizontal",
       "style": "IPY_MODEL_2b1ff6a70039428cabb5d3aae28cefee",
       "value": 36718.0
      }
     },
     "4f280e5475104d40ab4dbf80352ff908": {
      "model_module": "@jupyter-widgets/controls",
      "model_module_version": "1.5.0",
      "model_name": "FloatProgressModel",
      "state": {
       "_dom_classes": [],
       "_model_module": "@jupyter-widgets/controls",
       "_model_module_version": "1.5.0",
       "_model_name": "FloatProgressModel",
       "_view_count": null,
       "_view_module": "@jupyter-widgets/controls",
       "_view_module_version": "1.5.0",
       "_view_name": "ProgressView",
       "bar_style": "",
       "description": "",
       "description_tooltip": null,
       "layout": "IPY_MODEL_cf70204098d043f78bb8e3190d7f9668",
       "max": 3760.0,
       "min": 0.0,
       "orientation": "horizontal",
       "style": "IPY_MODEL_31207890ab874cdfa5c200ab50d2bbfc",
       "value": 3760.0
      }
     },
     "533c1e5d8dd64b0c99a852235736f946": {
      "model_module": "@jupyter-widgets/controls",
      "model_module_version": "1.5.0",
      "model_name": "HTMLModel",
      "state": {
       "_dom_classes": [],
       "_model_module": "@jupyter-widgets/controls",
       "_model_module_version": "1.5.0",
       "_model_name": "HTMLModel",
       "_view_count": null,
       "_view_module": "@jupyter-widgets/controls",
       "_view_module_version": "1.5.0",
       "_view_name": "HTMLView",
       "description": "",
       "description_tooltip": null,
       "layout": "IPY_MODEL_a748754dc9c64d7280804fae307eaf04",
       "placeholder": "​",
       "style": "IPY_MODEL_df228308055b475f814c57f21e78afb8",
       "value": " 32393/36718 [00:00&lt;00:00, 53073.86 examples/s]"
      }
     },
     "57ec6c90b62644b798ecab0fafd67036": {
      "model_module": "@jupyter-widgets/controls",
      "model_module_version": "1.5.0",
      "model_name": "HBoxModel",
      "state": {
       "_dom_classes": [],
       "_model_module": "@jupyter-widgets/controls",
       "_model_module_version": "1.5.0",
       "_model_name": "HBoxModel",
       "_view_count": null,
       "_view_module": "@jupyter-widgets/controls",
       "_view_module_version": "1.5.0",
       "_view_name": "HBoxView",
       "box_style": "",
       "children": [
        "IPY_MODEL_c806f913d5704c00915dc6c650621fc2",
        "IPY_MODEL_90cb1ea36af2473b8b97460b70ec8806",
        "IPY_MODEL_d40562817697404d972a6b8c7d4c52bd"
       ],
       "layout": "IPY_MODEL_e082e8df46ad46bb9053324e023bec8a"
      }
     },
     "5eeecbd627574fed965740b6ade1318f": {
      "model_module": "@jupyter-widgets/controls",
      "model_module_version": "1.5.0",
      "model_name": "HTMLModel",
      "state": {
       "_dom_classes": [],
       "_model_module": "@jupyter-widgets/controls",
       "_model_module_version": "1.5.0",
       "_model_name": "HTMLModel",
       "_view_count": null,
       "_view_module": "@jupyter-widgets/controls",
       "_view_module_version": "1.5.0",
       "_view_name": "HTMLView",
       "description": "",
       "description_tooltip": null,
       "layout": "IPY_MODEL_c225cfcadc2e43fb99cd78bff8c32095",
       "placeholder": "​",
       "style": "IPY_MODEL_3fcc4cb04a1640ee9ea8a694238fd50a",
       "value": " 4285/4358 [00:00&lt;00:00, 42844.01 examples/s]"
      }
     },
     "5f2a5f8e34cb4e448936fd35f2ba3e5a": {
      "model_module": "@jupyter-widgets/base",
      "model_module_version": "1.2.0",
      "model_name": "LayoutModel",
      "state": {
       "_model_module": "@jupyter-widgets/base",
       "_model_module_version": "1.2.0",
       "_model_name": "LayoutModel",
       "_view_count": null,
       "_view_module": "@jupyter-widgets/base",
       "_view_module_version": "1.2.0",
       "_view_name": "LayoutView",
       "align_content": null,
       "align_items": null,
       "align_self": null,
       "border": null,
       "bottom": null,
       "display": null,
       "flex": null,
       "flex_flow": null,
       "grid_area": null,
       "grid_auto_columns": null,
       "grid_auto_flow": null,
       "grid_auto_rows": null,
       "grid_column": null,
       "grid_gap": null,
       "grid_row": null,
       "grid_template_areas": null,
       "grid_template_columns": null,
       "grid_template_rows": null,
       "height": null,
       "justify_content": null,
       "justify_items": null,
       "left": null,
       "margin": null,
       "max_height": null,
       "max_width": null,
       "min_height": null,
       "min_width": null,
       "object_fit": null,
       "object_position": null,
       "order": null,
       "overflow": null,
       "overflow_x": null,
       "overflow_y": null,
       "padding": null,
       "right": null,
       "top": null,
       "visibility": null,
       "width": null
      }
     },
     "666ea4baf72146d4afa129deb179699e": {
      "model_module": "@jupyter-widgets/base",
      "model_module_version": "1.2.0",
      "model_name": "LayoutModel",
      "state": {
       "_model_module": "@jupyter-widgets/base",
       "_model_module_version": "1.2.0",
       "_model_name": "LayoutModel",
       "_view_count": null,
       "_view_module": "@jupyter-widgets/base",
       "_view_module_version": "1.2.0",
       "_view_name": "LayoutView",
       "align_content": null,
       "align_items": null,
       "align_self": null,
       "border": null,
       "bottom": null,
       "display": null,
       "flex": null,
       "flex_flow": null,
       "grid_area": null,
       "grid_auto_columns": null,
       "grid_auto_flow": null,
       "grid_auto_rows": null,
       "grid_column": null,
       "grid_gap": null,
       "grid_row": null,
       "grid_template_areas": null,
       "grid_template_columns": null,
       "grid_template_rows": null,
       "height": null,
       "justify_content": null,
       "justify_items": null,
       "left": null,
       "margin": null,
       "max_height": null,
       "max_width": null,
       "min_height": null,
       "min_width": null,
       "object_fit": null,
       "object_position": null,
       "order": null,
       "overflow": null,
       "overflow_x": null,
       "overflow_y": null,
       "padding": null,
       "right": null,
       "top": null,
       "visibility": null,
       "width": null
      }
     },
     "71f1f6fa9abe47e0ba00064806037804": {
      "model_module": "@jupyter-widgets/controls",
      "model_module_version": "1.5.0",
      "model_name": "DescriptionStyleModel",
      "state": {
       "_model_module": "@jupyter-widgets/controls",
       "_model_module_version": "1.5.0",
       "_model_name": "DescriptionStyleModel",
       "_view_count": null,
       "_view_module": "@jupyter-widgets/base",
       "_view_module_version": "1.2.0",
       "_view_name": "StyleView",
       "description_width": ""
      }
     },
     "728145757f464da990d31eb2102b0957": {
      "model_module": "@jupyter-widgets/base",
      "model_module_version": "1.2.0",
      "model_name": "LayoutModel",
      "state": {
       "_model_module": "@jupyter-widgets/base",
       "_model_module_version": "1.2.0",
       "_model_name": "LayoutModel",
       "_view_count": null,
       "_view_module": "@jupyter-widgets/base",
       "_view_module_version": "1.2.0",
       "_view_name": "LayoutView",
       "align_content": null,
       "align_items": null,
       "align_self": null,
       "border": null,
       "bottom": null,
       "display": null,
       "flex": null,
       "flex_flow": null,
       "grid_area": null,
       "grid_auto_columns": null,
       "grid_auto_flow": null,
       "grid_auto_rows": null,
       "grid_column": null,
       "grid_gap": null,
       "grid_row": null,
       "grid_template_areas": null,
       "grid_template_columns": null,
       "grid_template_rows": null,
       "height": null,
       "justify_content": null,
       "justify_items": null,
       "left": null,
       "margin": null,
       "max_height": null,
       "max_width": null,
       "min_height": null,
       "min_width": null,
       "object_fit": null,
       "object_position": null,
       "order": null,
       "overflow": null,
       "overflow_x": null,
       "overflow_y": null,
       "padding": null,
       "right": null,
       "top": null,
       "visibility": null,
       "width": null
      }
     },
     "75a20e95964849f4a0a3151a7d57af7e": {
      "model_module": "@jupyter-widgets/base",
      "model_module_version": "1.2.0",
      "model_name": "LayoutModel",
      "state": {
       "_model_module": "@jupyter-widgets/base",
       "_model_module_version": "1.2.0",
       "_model_name": "LayoutModel",
       "_view_count": null,
       "_view_module": "@jupyter-widgets/base",
       "_view_module_version": "1.2.0",
       "_view_name": "LayoutView",
       "align_content": null,
       "align_items": null,
       "align_self": null,
       "border": null,
       "bottom": null,
       "display": null,
       "flex": null,
       "flex_flow": null,
       "grid_area": null,
       "grid_auto_columns": null,
       "grid_auto_flow": null,
       "grid_auto_rows": null,
       "grid_column": null,
       "grid_gap": null,
       "grid_row": null,
       "grid_template_areas": null,
       "grid_template_columns": null,
       "grid_template_rows": null,
       "height": null,
       "justify_content": null,
       "justify_items": null,
       "left": null,
       "margin": null,
       "max_height": null,
       "max_width": null,
       "min_height": null,
       "min_width": null,
       "object_fit": null,
       "object_position": null,
       "order": null,
       "overflow": null,
       "overflow_x": null,
       "overflow_y": null,
       "padding": null,
       "right": null,
       "top": null,
       "visibility": null,
       "width": null
      }
     },
     "75e7676252fa40e4ad9c59bf9e0d6d64": {
      "model_module": "@jupyter-widgets/controls",
      "model_module_version": "1.5.0",
      "model_name": "HBoxModel",
      "state": {
       "_dom_classes": [],
       "_model_module": "@jupyter-widgets/controls",
       "_model_module_version": "1.5.0",
       "_model_name": "HBoxModel",
       "_view_count": null,
       "_view_module": "@jupyter-widgets/controls",
       "_view_module_version": "1.5.0",
       "_view_name": "HBoxView",
       "box_style": "",
       "children": [
        "IPY_MODEL_8d8402f9b44b4a4cbd2db44a850bd498",
        "IPY_MODEL_03e5d913a7044dc2a38d9a137b10d6a5",
        "IPY_MODEL_5eeecbd627574fed965740b6ade1318f"
       ],
       "layout": "IPY_MODEL_cde20587679845c58106b64d73669495"
      }
     },
     "848b9927d6a548069f1c40242b6941c8": {
      "model_module": "@jupyter-widgets/controls",
      "model_module_version": "1.5.0",
      "model_name": "HTMLModel",
      "state": {
       "_dom_classes": [],
       "_model_module": "@jupyter-widgets/controls",
       "_model_module_version": "1.5.0",
       "_model_name": "HTMLModel",
       "_view_count": null,
       "_view_module": "@jupyter-widgets/controls",
       "_view_module_version": "1.5.0",
       "_view_name": "HTMLView",
       "description": "",
       "description_tooltip": null,
       "layout": "IPY_MODEL_d32db32f10e043bfa83291b539cce0bb",
       "placeholder": "​",
       "style": "IPY_MODEL_d61873b64ef94cee9512d5d0089ec786",
       "value": " 3/3 [00:00&lt;00:00, 97.87it/s]"
      }
     },
     "85bd44bd650b4e06b84b93e9e6944092": {
      "model_module": "@jupyter-widgets/controls",
      "model_module_version": "1.5.0",
      "model_name": "ProgressStyleModel",
      "state": {
       "_model_module": "@jupyter-widgets/controls",
       "_model_module_version": "1.5.0",
       "_model_name": "ProgressStyleModel",
       "_view_count": null,
       "_view_module": "@jupyter-widgets/base",
       "_view_module_version": "1.2.0",
       "_view_name": "StyleView",
       "bar_color": null,
       "description_width": ""
      }
     },
     "88833078ab7f43a28f23f47b82cf14a5": {
      "model_module": "@jupyter-widgets/base",
      "model_module_version": "1.2.0",
      "model_name": "LayoutModel",
      "state": {
       "_model_module": "@jupyter-widgets/base",
       "_model_module_version": "1.2.0",
       "_model_name": "LayoutModel",
       "_view_count": null,
       "_view_module": "@jupyter-widgets/base",
       "_view_module_version": "1.2.0",
       "_view_name": "LayoutView",
       "align_content": null,
       "align_items": null,
       "align_self": null,
       "border": null,
       "bottom": null,
       "display": null,
       "flex": null,
       "flex_flow": null,
       "grid_area": null,
       "grid_auto_columns": null,
       "grid_auto_flow": null,
       "grid_auto_rows": null,
       "grid_column": null,
       "grid_gap": null,
       "grid_row": null,
       "grid_template_areas": null,
       "grid_template_columns": null,
       "grid_template_rows": null,
       "height": null,
       "justify_content": null,
       "justify_items": null,
       "left": null,
       "margin": null,
       "max_height": null,
       "max_width": null,
       "min_height": null,
       "min_width": null,
       "object_fit": null,
       "object_position": null,
       "order": null,
       "overflow": null,
       "overflow_x": null,
       "overflow_y": null,
       "padding": null,
       "right": null,
       "top": null,
       "visibility": null,
       "width": null
      }
     },
     "8c6a42a93790458785f50e7f8e29517c": {
      "model_module": "@jupyter-widgets/controls",
      "model_module_version": "1.5.0",
      "model_name": "HTMLModel",
      "state": {
       "_dom_classes": [],
       "_model_module": "@jupyter-widgets/controls",
       "_model_module_version": "1.5.0",
       "_model_name": "HTMLModel",
       "_view_count": null,
       "_view_module": "@jupyter-widgets/controls",
       "_view_module_version": "1.5.0",
       "_view_name": "HTMLView",
       "description": "",
       "description_tooltip": null,
       "layout": "IPY_MODEL_dba14e46d0854ef183fdcf9cfe162f73",
       "placeholder": "​",
       "style": "IPY_MODEL_0c3c89e4a3854631b406219bb07ee1ac",
       "value": "Generating validation split:   0%"
      }
     },
     "8cee583c6e9047aa8ce3c1384f369818": {
      "model_module": "@jupyter-widgets/controls",
      "model_module_version": "1.5.0",
      "model_name": "DescriptionStyleModel",
      "state": {
       "_model_module": "@jupyter-widgets/controls",
       "_model_module_version": "1.5.0",
       "_model_name": "DescriptionStyleModel",
       "_view_count": null,
       "_view_module": "@jupyter-widgets/base",
       "_view_module_version": "1.2.0",
       "_view_name": "StyleView",
       "description_width": ""
      }
     },
     "8d8402f9b44b4a4cbd2db44a850bd498": {
      "model_module": "@jupyter-widgets/controls",
      "model_module_version": "1.5.0",
      "model_name": "HTMLModel",
      "state": {
       "_dom_classes": [],
       "_model_module": "@jupyter-widgets/controls",
       "_model_module_version": "1.5.0",
       "_model_name": "HTMLModel",
       "_view_count": null,
       "_view_module": "@jupyter-widgets/controls",
       "_view_module_version": "1.5.0",
       "_view_name": "HTMLView",
       "description": "",
       "description_tooltip": null,
       "layout": "IPY_MODEL_cc7ad55a28694fe8a2f82835ffa1621e",
       "placeholder": "​",
       "style": "IPY_MODEL_0bef84bafa254bc18d5de117464c3dd6",
       "value": "Generating test split:  98%"
      }
     },
     "8e9ab0d1e1cc4c41a74ae1935186f1b5": {
      "model_module": "@jupyter-widgets/base",
      "model_module_version": "1.2.0",
      "model_name": "LayoutModel",
      "state": {
       "_model_module": "@jupyter-widgets/base",
       "_model_module_version": "1.2.0",
       "_model_name": "LayoutModel",
       "_view_count": null,
       "_view_module": "@jupyter-widgets/base",
       "_view_module_version": "1.2.0",
       "_view_name": "LayoutView",
       "align_content": null,
       "align_items": null,
       "align_self": null,
       "border": null,
       "bottom": null,
       "display": null,
       "flex": null,
       "flex_flow": null,
       "grid_area": null,
       "grid_auto_columns": null,
       "grid_auto_flow": null,
       "grid_auto_rows": null,
       "grid_column": null,
       "grid_gap": null,
       "grid_row": null,
       "grid_template_areas": null,
       "grid_template_columns": null,
       "grid_template_rows": null,
       "height": null,
       "justify_content": null,
       "justify_items": null,
       "left": null,
       "margin": null,
       "max_height": null,
       "max_width": null,
       "min_height": null,
       "min_width": null,
       "object_fit": null,
       "object_position": null,
       "order": null,
       "overflow": null,
       "overflow_x": null,
       "overflow_y": null,
       "padding": null,
       "right": null,
       "top": null,
       "visibility": null,
       "width": null
      }
     },
     "90cb1ea36af2473b8b97460b70ec8806": {
      "model_module": "@jupyter-widgets/controls",
      "model_module_version": "1.5.0",
      "model_name": "FloatProgressModel",
      "state": {
       "_dom_classes": [],
       "_model_module": "@jupyter-widgets/controls",
       "_model_module_version": "1.5.0",
       "_model_name": "FloatProgressModel",
       "_view_count": null,
       "_view_module": "@jupyter-widgets/controls",
       "_view_module_version": "1.5.0",
       "_view_name": "ProgressView",
       "bar_style": "success",
       "description": "",
       "description_tooltip": null,
       "layout": "IPY_MODEL_666ea4baf72146d4afa129deb179699e",
       "max": 2032.0,
       "min": 0.0,
       "orientation": "horizontal",
       "style": "IPY_MODEL_e6ec70240f784841a2e8bb7361de9b1d",
       "value": 2032.0
      }
     },
     "9c113b4578534011907deb64c859c549": {
      "model_module": "@jupyter-widgets/base",
      "model_module_version": "1.2.0",
      "model_name": "LayoutModel",
      "state": {
       "_model_module": "@jupyter-widgets/base",
       "_model_module_version": "1.2.0",
       "_model_name": "LayoutModel",
       "_view_count": null,
       "_view_module": "@jupyter-widgets/base",
       "_view_module_version": "1.2.0",
       "_view_name": "LayoutView",
       "align_content": null,
       "align_items": null,
       "align_self": null,
       "border": null,
       "bottom": null,
       "display": null,
       "flex": null,
       "flex_flow": null,
       "grid_area": null,
       "grid_auto_columns": null,
       "grid_auto_flow": null,
       "grid_auto_rows": null,
       "grid_column": null,
       "grid_gap": null,
       "grid_row": null,
       "grid_template_areas": null,
       "grid_template_columns": null,
       "grid_template_rows": null,
       "height": null,
       "justify_content": null,
       "justify_items": null,
       "left": null,
       "margin": null,
       "max_height": null,
       "max_width": null,
       "min_height": null,
       "min_width": null,
       "object_fit": null,
       "object_position": null,
       "order": null,
       "overflow": null,
       "overflow_x": null,
       "overflow_y": null,
       "padding": null,
       "right": null,
       "top": null,
       "visibility": null,
       "width": null
      }
     },
     "9eb457e0b232453794e569bc95083e18": {
      "model_module": "@jupyter-widgets/base",
      "model_module_version": "1.2.0",
      "model_name": "LayoutModel",
      "state": {
       "_model_module": "@jupyter-widgets/base",
       "_model_module_version": "1.2.0",
       "_model_name": "LayoutModel",
       "_view_count": null,
       "_view_module": "@jupyter-widgets/base",
       "_view_module_version": "1.2.0",
       "_view_name": "LayoutView",
       "align_content": null,
       "align_items": null,
       "align_self": null,
       "border": null,
       "bottom": null,
       "display": null,
       "flex": null,
       "flex_flow": null,
       "grid_area": null,
       "grid_auto_columns": null,
       "grid_auto_flow": null,
       "grid_auto_rows": null,
       "grid_column": null,
       "grid_gap": null,
       "grid_row": null,
       "grid_template_areas": null,
       "grid_template_columns": null,
       "grid_template_rows": null,
       "height": null,
       "justify_content": null,
       "justify_items": null,
       "left": null,
       "margin": null,
       "max_height": null,
       "max_width": null,
       "min_height": null,
       "min_width": null,
       "object_fit": null,
       "object_position": null,
       "order": null,
       "overflow": null,
       "overflow_x": null,
       "overflow_y": null,
       "padding": null,
       "right": null,
       "top": null,
       "visibility": null,
       "width": null
      }
     },
     "9ec40452a6c24393b0af2fc0746b1997": {
      "model_module": "@jupyter-widgets/controls",
      "model_module_version": "1.5.0",
      "model_name": "HTMLModel",
      "state": {
       "_dom_classes": [],
       "_model_module": "@jupyter-widgets/controls",
       "_model_module_version": "1.5.0",
       "_model_name": "HTMLModel",
       "_view_count": null,
       "_view_module": "@jupyter-widgets/controls",
       "_view_module_version": "1.5.0",
       "_view_name": "HTMLView",
       "description": "",
       "description_tooltip": null,
       "layout": "IPY_MODEL_9c113b4578534011907deb64c859c549",
       "placeholder": "​",
       "style": "IPY_MODEL_1e9ff9ee2df4416db36123a3c8ec8f8a",
       "value": "Downloading metadata: "
      }
     },
     "a15180dd0944404db002bcb99efd341a": {
      "model_module": "@jupyter-widgets/base",
      "model_module_version": "1.2.0",
      "model_name": "LayoutModel",
      "state": {
       "_model_module": "@jupyter-widgets/base",
       "_model_module_version": "1.2.0",
       "_model_name": "LayoutModel",
       "_view_count": null,
       "_view_module": "@jupyter-widgets/base",
       "_view_module_version": "1.2.0",
       "_view_name": "LayoutView",
       "align_content": null,
       "align_items": null,
       "align_self": null,
       "border": null,
       "bottom": null,
       "display": null,
       "flex": null,
       "flex_flow": null,
       "grid_area": null,
       "grid_auto_columns": null,
       "grid_auto_flow": null,
       "grid_auto_rows": null,
       "grid_column": null,
       "grid_gap": null,
       "grid_row": null,
       "grid_template_areas": null,
       "grid_template_columns": null,
       "grid_template_rows": null,
       "height": null,
       "justify_content": null,
       "justify_items": null,
       "left": null,
       "margin": null,
       "max_height": null,
       "max_width": null,
       "min_height": null,
       "min_width": null,
       "object_fit": null,
       "object_position": null,
       "order": null,
       "overflow": null,
       "overflow_x": null,
       "overflow_y": null,
       "padding": null,
       "right": null,
       "top": null,
       "visibility": null,
       "width": null
      }
     },
     "a3435bd8deb146a697bb8b432deba77f": {
      "model_module": "@jupyter-widgets/controls",
      "model_module_version": "1.5.0",
      "model_name": "HBoxModel",
      "state": {
       "_dom_classes": [],
       "_model_module": "@jupyter-widgets/controls",
       "_model_module_version": "1.5.0",
       "_model_name": "HBoxModel",
       "_view_count": null,
       "_view_module": "@jupyter-widgets/controls",
       "_view_module_version": "1.5.0",
       "_view_name": "HBoxView",
       "box_style": "",
       "children": [
        "IPY_MODEL_8c6a42a93790458785f50e7f8e29517c",
        "IPY_MODEL_4f280e5475104d40ab4dbf80352ff908",
        "IPY_MODEL_41d9b9cb728f4283b3c77f88143d133d"
       ],
       "layout": "IPY_MODEL_9eb457e0b232453794e569bc95083e18"
      }
     },
     "a4b1296a10444035bed23d766a07a51e": {
      "model_module": "@jupyter-widgets/controls",
      "model_module_version": "1.5.0",
      "model_name": "HTMLModel",
      "state": {
       "_dom_classes": [],
       "_model_module": "@jupyter-widgets/controls",
       "_model_module_version": "1.5.0",
       "_model_name": "HTMLModel",
       "_view_count": null,
       "_view_module": "@jupyter-widgets/controls",
       "_view_module_version": "1.5.0",
       "_view_name": "HTMLView",
       "description": "",
       "description_tooltip": null,
       "layout": "IPY_MODEL_ff1fce728c7a4ad593b6b4c4e9081549",
       "placeholder": "​",
       "style": "IPY_MODEL_d8fafba3ab1a4b99af59132dbd937934",
       "value": "100%"
      }
     },
     "a748754dc9c64d7280804fae307eaf04": {
      "model_module": "@jupyter-widgets/base",
      "model_module_version": "1.2.0",
      "model_name": "LayoutModel",
      "state": {
       "_model_module": "@jupyter-widgets/base",
       "_model_module_version": "1.2.0",
       "_model_name": "LayoutModel",
       "_view_count": null,
       "_view_module": "@jupyter-widgets/base",
       "_view_module_version": "1.2.0",
       "_view_name": "LayoutView",
       "align_content": null,
       "align_items": null,
       "align_self": null,
       "border": null,
       "bottom": null,
       "display": null,
       "flex": null,
       "flex_flow": null,
       "grid_area": null,
       "grid_auto_columns": null,
       "grid_auto_flow": null,
       "grid_auto_rows": null,
       "grid_column": null,
       "grid_gap": null,
       "grid_row": null,
       "grid_template_areas": null,
       "grid_template_columns": null,
       "grid_template_rows": null,
       "height": null,
       "justify_content": null,
       "justify_items": null,
       "left": null,
       "margin": null,
       "max_height": null,
       "max_width": null,
       "min_height": null,
       "min_width": null,
       "object_fit": null,
       "object_position": null,
       "order": null,
       "overflow": null,
       "overflow_x": null,
       "overflow_y": null,
       "padding": null,
       "right": null,
       "top": null,
       "visibility": null,
       "width": null
      }
     },
     "be27812e785a44fda1f69678265b52f0": {
      "model_module": "@jupyter-widgets/controls",
      "model_module_version": "1.5.0",
      "model_name": "ProgressStyleModel",
      "state": {
       "_model_module": "@jupyter-widgets/controls",
       "_model_module_version": "1.5.0",
       "_model_name": "ProgressStyleModel",
       "_view_count": null,
       "_view_module": "@jupyter-widgets/base",
       "_view_module_version": "1.2.0",
       "_view_name": "StyleView",
       "bar_color": null,
       "description_width": ""
      }
     },
     "bf435faca0634bc6b6c2a7841d376c0b": {
      "model_module": "@jupyter-widgets/base",
      "model_module_version": "1.2.0",
      "model_name": "LayoutModel",
      "state": {
       "_model_module": "@jupyter-widgets/base",
       "_model_module_version": "1.2.0",
       "_model_name": "LayoutModel",
       "_view_count": null,
       "_view_module": "@jupyter-widgets/base",
       "_view_module_version": "1.2.0",
       "_view_name": "LayoutView",
       "align_content": null,
       "align_items": null,
       "align_self": null,
       "border": null,
       "bottom": null,
       "display": null,
       "flex": null,
       "flex_flow": null,
       "grid_area": null,
       "grid_auto_columns": null,
       "grid_auto_flow": null,
       "grid_auto_rows": null,
       "grid_column": null,
       "grid_gap": null,
       "grid_row": null,
       "grid_template_areas": null,
       "grid_template_columns": null,
       "grid_template_rows": null,
       "height": null,
       "justify_content": null,
       "justify_items": null,
       "left": null,
       "margin": null,
       "max_height": null,
       "max_width": null,
       "min_height": null,
       "min_width": null,
       "object_fit": null,
       "object_position": null,
       "order": null,
       "overflow": null,
       "overflow_x": null,
       "overflow_y": null,
       "padding": null,
       "right": null,
       "top": null,
       "visibility": null,
       "width": null
      }
     },
     "c225cfcadc2e43fb99cd78bff8c32095": {
      "model_module": "@jupyter-widgets/base",
      "model_module_version": "1.2.0",
      "model_name": "LayoutModel",
      "state": {
       "_model_module": "@jupyter-widgets/base",
       "_model_module_version": "1.2.0",
       "_model_name": "LayoutModel",
       "_view_count": null,
       "_view_module": "@jupyter-widgets/base",
       "_view_module_version": "1.2.0",
       "_view_name": "LayoutView",
       "align_content": null,
       "align_items": null,
       "align_self": null,
       "border": null,
       "bottom": null,
       "display": null,
       "flex": null,
       "flex_flow": null,
       "grid_area": null,
       "grid_auto_columns": null,
       "grid_auto_flow": null,
       "grid_auto_rows": null,
       "grid_column": null,
       "grid_gap": null,
       "grid_row": null,
       "grid_template_areas": null,
       "grid_template_columns": null,
       "grid_template_rows": null,
       "height": null,
       "justify_content": null,
       "justify_items": null,
       "left": null,
       "margin": null,
       "max_height": null,
       "max_width": null,
       "min_height": null,
       "min_width": null,
       "object_fit": null,
       "object_position": null,
       "order": null,
       "overflow": null,
       "overflow_x": null,
       "overflow_y": null,
       "padding": null,
       "right": null,
       "top": null,
       "visibility": null,
       "width": null
      }
     },
     "c806f913d5704c00915dc6c650621fc2": {
      "model_module": "@jupyter-widgets/controls",
      "model_module_version": "1.5.0",
      "model_name": "HTMLModel",
      "state": {
       "_dom_classes": [],
       "_model_module": "@jupyter-widgets/controls",
       "_model_module_version": "1.5.0",
       "_model_name": "HTMLModel",
       "_view_count": null,
       "_view_module": "@jupyter-widgets/controls",
       "_view_module_version": "1.5.0",
       "_view_name": "HTMLView",
       "description": "",
       "description_tooltip": null,
       "layout": "IPY_MODEL_234823f7c769473d9e3f6bfdc62dc5c4",
       "placeholder": "​",
       "style": "IPY_MODEL_f2ef6d800d234f83b92a69a01bee4c93",
       "value": "Downloading builder script: "
      }
     },
     "c96e4d82839f4d7ab46d96ac51543cb5": {
      "model_module": "@jupyter-widgets/controls",
      "model_module_version": "1.5.0",
      "model_name": "HBoxModel",
      "state": {
       "_dom_classes": [],
       "_model_module": "@jupyter-widgets/controls",
       "_model_module_version": "1.5.0",
       "_model_name": "HBoxModel",
       "_view_count": null,
       "_view_module": "@jupyter-widgets/controls",
       "_view_module_version": "1.5.0",
       "_view_name": "HBoxView",
       "box_style": "",
       "children": [
        "IPY_MODEL_9ec40452a6c24393b0af2fc0746b1997",
        "IPY_MODEL_09c418380c114565ad729138ef5441cb",
        "IPY_MODEL_d5ce5154cd6f436b9ed5a500b4c041c1"
       ],
       "layout": "IPY_MODEL_a15180dd0944404db002bcb99efd341a"
      }
     },
     "cc7ad55a28694fe8a2f82835ffa1621e": {
      "model_module": "@jupyter-widgets/base",
      "model_module_version": "1.2.0",
      "model_name": "LayoutModel",
      "state": {
       "_model_module": "@jupyter-widgets/base",
       "_model_module_version": "1.2.0",
       "_model_name": "LayoutModel",
       "_view_count": null,
       "_view_module": "@jupyter-widgets/base",
       "_view_module_version": "1.2.0",
       "_view_name": "LayoutView",
       "align_content": null,
       "align_items": null,
       "align_self": null,
       "border": null,
       "bottom": null,
       "display": null,
       "flex": null,
       "flex_flow": null,
       "grid_area": null,
       "grid_auto_columns": null,
       "grid_auto_flow": null,
       "grid_auto_rows": null,
       "grid_column": null,
       "grid_gap": null,
       "grid_row": null,
       "grid_template_areas": null,
       "grid_template_columns": null,
       "grid_template_rows": null,
       "height": null,
       "justify_content": null,
       "justify_items": null,
       "left": null,
       "margin": null,
       "max_height": null,
       "max_width": null,
       "min_height": null,
       "min_width": null,
       "object_fit": null,
       "object_position": null,
       "order": null,
       "overflow": null,
       "overflow_x": null,
       "overflow_y": null,
       "padding": null,
       "right": null,
       "top": null,
       "visibility": null,
       "width": null
      }
     },
     "cdc8c9768d924aceaf655cec84dec5d6": {
      "model_module": "@jupyter-widgets/controls",
      "model_module_version": "1.5.0",
      "model_name": "HTMLModel",
      "state": {
       "_dom_classes": [],
       "_model_module": "@jupyter-widgets/controls",
       "_model_module_version": "1.5.0",
       "_model_name": "HTMLModel",
       "_view_count": null,
       "_view_module": "@jupyter-widgets/controls",
       "_view_module_version": "1.5.0",
       "_view_name": "HTMLView",
       "description": "",
       "description_tooltip": null,
       "layout": "IPY_MODEL_8e9ab0d1e1cc4c41a74ae1935186f1b5",
       "placeholder": "​",
       "style": "IPY_MODEL_8cee583c6e9047aa8ce3c1384f369818",
       "value": " 4.48M/4.48M [00:00&lt;00:00, 2.95MB/s]"
      }
     },
     "cde20587679845c58106b64d73669495": {
      "model_module": "@jupyter-widgets/base",
      "model_module_version": "1.2.0",
      "model_name": "LayoutModel",
      "state": {
       "_model_module": "@jupyter-widgets/base",
       "_model_module_version": "1.2.0",
       "_model_name": "LayoutModel",
       "_view_count": null,
       "_view_module": "@jupyter-widgets/base",
       "_view_module_version": "1.2.0",
       "_view_name": "LayoutView",
       "align_content": null,
       "align_items": null,
       "align_self": null,
       "border": null,
       "bottom": null,
       "display": null,
       "flex": null,
       "flex_flow": null,
       "grid_area": null,
       "grid_auto_columns": null,
       "grid_auto_flow": null,
       "grid_auto_rows": null,
       "grid_column": null,
       "grid_gap": null,
       "grid_row": null,
       "grid_template_areas": null,
       "grid_template_columns": null,
       "grid_template_rows": null,
       "height": null,
       "justify_content": null,
       "justify_items": null,
       "left": null,
       "margin": null,
       "max_height": null,
       "max_width": null,
       "min_height": null,
       "min_width": null,
       "object_fit": null,
       "object_position": null,
       "order": null,
       "overflow": null,
       "overflow_x": null,
       "overflow_y": null,
       "padding": null,
       "right": null,
       "top": null,
       "visibility": null,
       "width": null
      }
     },
     "cf70204098d043f78bb8e3190d7f9668": {
      "model_module": "@jupyter-widgets/base",
      "model_module_version": "1.2.0",
      "model_name": "LayoutModel",
      "state": {
       "_model_module": "@jupyter-widgets/base",
       "_model_module_version": "1.2.0",
       "_model_name": "LayoutModel",
       "_view_count": null,
       "_view_module": "@jupyter-widgets/base",
       "_view_module_version": "1.2.0",
       "_view_name": "LayoutView",
       "align_content": null,
       "align_items": null,
       "align_self": null,
       "border": null,
       "bottom": null,
       "display": null,
       "flex": null,
       "flex_flow": null,
       "grid_area": null,
       "grid_auto_columns": null,
       "grid_auto_flow": null,
       "grid_auto_rows": null,
       "grid_column": null,
       "grid_gap": null,
       "grid_row": null,
       "grid_template_areas": null,
       "grid_template_columns": null,
       "grid_template_rows": null,
       "height": null,
       "justify_content": null,
       "justify_items": null,
       "left": null,
       "margin": null,
       "max_height": null,
       "max_width": null,
       "min_height": null,
       "min_width": null,
       "object_fit": null,
       "object_position": null,
       "order": null,
       "overflow": null,
       "overflow_x": null,
       "overflow_y": null,
       "padding": null,
       "right": null,
       "top": null,
       "visibility": null,
       "width": null
      }
     },
     "d0ce56d716e445b8bd75a41e73e7bef7": {
      "model_module": "@jupyter-widgets/controls",
      "model_module_version": "1.5.0",
      "model_name": "HTMLModel",
      "state": {
       "_dom_classes": [],
       "_model_module": "@jupyter-widgets/controls",
       "_model_module_version": "1.5.0",
       "_model_name": "HTMLModel",
       "_view_count": null,
       "_view_module": "@jupyter-widgets/controls",
       "_view_module_version": "1.5.0",
       "_view_name": "HTMLView",
       "description": "",
       "description_tooltip": null,
       "layout": "IPY_MODEL_040fcd18b05345388f462df50576ebf1",
       "placeholder": "​",
       "style": "IPY_MODEL_35cc56b144244d1f9ee8b30c563d4738",
       "value": "Downloading data: 100%"
      }
     },
     "d32db32f10e043bfa83291b539cce0bb": {
      "model_module": "@jupyter-widgets/base",
      "model_module_version": "1.2.0",
      "model_name": "LayoutModel",
      "state": {
       "_model_module": "@jupyter-widgets/base",
       "_model_module_version": "1.2.0",
       "_model_name": "LayoutModel",
       "_view_count": null,
       "_view_module": "@jupyter-widgets/base",
       "_view_module_version": "1.2.0",
       "_view_name": "LayoutView",
       "align_content": null,
       "align_items": null,
       "align_self": null,
       "border": null,
       "bottom": null,
       "display": null,
       "flex": null,
       "flex_flow": null,
       "grid_area": null,
       "grid_auto_columns": null,
       "grid_auto_flow": null,
       "grid_auto_rows": null,
       "grid_column": null,
       "grid_gap": null,
       "grid_row": null,
       "grid_template_areas": null,
       "grid_template_columns": null,
       "grid_template_rows": null,
       "height": null,
       "justify_content": null,
       "justify_items": null,
       "left": null,
       "margin": null,
       "max_height": null,
       "max_width": null,
       "min_height": null,
       "min_width": null,
       "object_fit": null,
       "object_position": null,
       "order": null,
       "overflow": null,
       "overflow_x": null,
       "overflow_y": null,
       "padding": null,
       "right": null,
       "top": null,
       "visibility": null,
       "width": null
      }
     },
     "d3c781cf942e4db4aa5528ded64adbd2": {
      "model_module": "@jupyter-widgets/controls",
      "model_module_version": "1.5.0",
      "model_name": "DescriptionStyleModel",
      "state": {
       "_model_module": "@jupyter-widgets/controls",
       "_model_module_version": "1.5.0",
       "_model_name": "DescriptionStyleModel",
       "_view_count": null,
       "_view_module": "@jupyter-widgets/base",
       "_view_module_version": "1.2.0",
       "_view_name": "StyleView",
       "description_width": ""
      }
     },
     "d40562817697404d972a6b8c7d4c52bd": {
      "model_module": "@jupyter-widgets/controls",
      "model_module_version": "1.5.0",
      "model_name": "HTMLModel",
      "state": {
       "_dom_classes": [],
       "_model_module": "@jupyter-widgets/controls",
       "_model_module_version": "1.5.0",
       "_model_name": "HTMLModel",
       "_view_count": null,
       "_view_module": "@jupyter-widgets/controls",
       "_view_module_version": "1.5.0",
       "_view_name": "HTMLView",
       "description": "",
       "description_tooltip": null,
       "layout": "IPY_MODEL_2c22938a373049ae99facb0ed2e676bc",
       "placeholder": "​",
       "style": "IPY_MODEL_30a743ee953f4d63910027fcc0132b75",
       "value": " 8.48k/? [00:00&lt;00:00, 158kB/s]"
      }
     },
     "d5ce5154cd6f436b9ed5a500b4c041c1": {
      "model_module": "@jupyter-widgets/controls",
      "model_module_version": "1.5.0",
      "model_name": "HTMLModel",
      "state": {
       "_dom_classes": [],
       "_model_module": "@jupyter-widgets/controls",
       "_model_module_version": "1.5.0",
       "_model_name": "HTMLModel",
       "_view_count": null,
       "_view_module": "@jupyter-widgets/controls",
       "_view_module_version": "1.5.0",
       "_view_name": "HTMLView",
       "description": "",
       "description_tooltip": null,
       "layout": "IPY_MODEL_e85dc7c8c45f484687f05152f64717ba",
       "placeholder": "​",
       "style": "IPY_MODEL_71f1f6fa9abe47e0ba00064806037804",
       "value": " 6.84k/? [00:00&lt;00:00, 185kB/s]"
      }
     },
     "d61873b64ef94cee9512d5d0089ec786": {
      "model_module": "@jupyter-widgets/controls",
      "model_module_version": "1.5.0",
      "model_name": "DescriptionStyleModel",
      "state": {
       "_model_module": "@jupyter-widgets/controls",
       "_model_module_version": "1.5.0",
       "_model_name": "DescriptionStyleModel",
       "_view_count": null,
       "_view_module": "@jupyter-widgets/base",
       "_view_module_version": "1.2.0",
       "_view_name": "StyleView",
       "description_width": ""
      }
     },
     "d8fafba3ab1a4b99af59132dbd937934": {
      "model_module": "@jupyter-widgets/controls",
      "model_module_version": "1.5.0",
      "model_name": "DescriptionStyleModel",
      "state": {
       "_model_module": "@jupyter-widgets/controls",
       "_model_module_version": "1.5.0",
       "_model_name": "DescriptionStyleModel",
       "_view_count": null,
       "_view_module": "@jupyter-widgets/base",
       "_view_module_version": "1.2.0",
       "_view_name": "StyleView",
       "description_width": ""
      }
     },
     "d9bc7d4a55f74e7db878f82eab41155a": {
      "model_module": "@jupyter-widgets/controls",
      "model_module_version": "1.5.0",
      "model_name": "FloatProgressModel",
      "state": {
       "_dom_classes": [],
       "_model_module": "@jupyter-widgets/controls",
       "_model_module_version": "1.5.0",
       "_model_name": "FloatProgressModel",
       "_view_count": null,
       "_view_module": "@jupyter-widgets/controls",
       "_view_module_version": "1.5.0",
       "_view_name": "ProgressView",
       "bar_style": "success",
       "description": "",
       "description_tooltip": null,
       "layout": "IPY_MODEL_75a20e95964849f4a0a3151a7d57af7e",
       "max": 4475746.0,
       "min": 0.0,
       "orientation": "horizontal",
       "style": "IPY_MODEL_e80e72df41cc4679a3441f26cbb690d4",
       "value": 4475746.0
      }
     },
     "da9ba43d76894dee88b2475576cbc5c6": {
      "model_module": "@jupyter-widgets/base",
      "model_module_version": "1.2.0",
      "model_name": "LayoutModel",
      "state": {
       "_model_module": "@jupyter-widgets/base",
       "_model_module_version": "1.2.0",
       "_model_name": "LayoutModel",
       "_view_count": null,
       "_view_module": "@jupyter-widgets/base",
       "_view_module_version": "1.2.0",
       "_view_name": "LayoutView",
       "align_content": null,
       "align_items": null,
       "align_self": null,
       "border": null,
       "bottom": null,
       "display": null,
       "flex": null,
       "flex_flow": null,
       "grid_area": null,
       "grid_auto_columns": null,
       "grid_auto_flow": null,
       "grid_auto_rows": null,
       "grid_column": null,
       "grid_gap": null,
       "grid_row": null,
       "grid_template_areas": null,
       "grid_template_columns": null,
       "grid_template_rows": null,
       "height": null,
       "justify_content": null,
       "justify_items": null,
       "left": null,
       "margin": null,
       "max_height": null,
       "max_width": null,
       "min_height": null,
       "min_width": null,
       "object_fit": null,
       "object_position": null,
       "order": null,
       "overflow": null,
       "overflow_x": null,
       "overflow_y": null,
       "padding": null,
       "right": null,
       "top": null,
       "visibility": null,
       "width": null
      }
     },
     "dba14e46d0854ef183fdcf9cfe162f73": {
      "model_module": "@jupyter-widgets/base",
      "model_module_version": "1.2.0",
      "model_name": "LayoutModel",
      "state": {
       "_model_module": "@jupyter-widgets/base",
       "_model_module_version": "1.2.0",
       "_model_name": "LayoutModel",
       "_view_count": null,
       "_view_module": "@jupyter-widgets/base",
       "_view_module_version": "1.2.0",
       "_view_name": "LayoutView",
       "align_content": null,
       "align_items": null,
       "align_self": null,
       "border": null,
       "bottom": null,
       "display": null,
       "flex": null,
       "flex_flow": null,
       "grid_area": null,
       "grid_auto_columns": null,
       "grid_auto_flow": null,
       "grid_auto_rows": null,
       "grid_column": null,
       "grid_gap": null,
       "grid_row": null,
       "grid_template_areas": null,
       "grid_template_columns": null,
       "grid_template_rows": null,
       "height": null,
       "justify_content": null,
       "justify_items": null,
       "left": null,
       "margin": null,
       "max_height": null,
       "max_width": null,
       "min_height": null,
       "min_width": null,
       "object_fit": null,
       "object_position": null,
       "order": null,
       "overflow": null,
       "overflow_x": null,
       "overflow_y": null,
       "padding": null,
       "right": null,
       "top": null,
       "visibility": null,
       "width": null
      }
     },
     "de5c76fa146f40d783103c967b94cb87": {
      "model_module": "@jupyter-widgets/controls",
      "model_module_version": "1.5.0",
      "model_name": "ProgressStyleModel",
      "state": {
       "_model_module": "@jupyter-widgets/controls",
       "_model_module_version": "1.5.0",
       "_model_name": "ProgressStyleModel",
       "_view_count": null,
       "_view_module": "@jupyter-widgets/base",
       "_view_module_version": "1.2.0",
       "_view_name": "StyleView",
       "bar_color": null,
       "description_width": ""
      }
     },
     "df228308055b475f814c57f21e78afb8": {
      "model_module": "@jupyter-widgets/controls",
      "model_module_version": "1.5.0",
      "model_name": "DescriptionStyleModel",
      "state": {
       "_model_module": "@jupyter-widgets/controls",
       "_model_module_version": "1.5.0",
       "_model_name": "DescriptionStyleModel",
       "_view_count": null,
       "_view_module": "@jupyter-widgets/base",
       "_view_module_version": "1.2.0",
       "_view_name": "StyleView",
       "description_width": ""
      }
     },
     "e082e8df46ad46bb9053324e023bec8a": {
      "model_module": "@jupyter-widgets/base",
      "model_module_version": "1.2.0",
      "model_name": "LayoutModel",
      "state": {
       "_model_module": "@jupyter-widgets/base",
       "_model_module_version": "1.2.0",
       "_model_name": "LayoutModel",
       "_view_count": null,
       "_view_module": "@jupyter-widgets/base",
       "_view_module_version": "1.2.0",
       "_view_name": "LayoutView",
       "align_content": null,
       "align_items": null,
       "align_self": null,
       "border": null,
       "bottom": null,
       "display": null,
       "flex": null,
       "flex_flow": null,
       "grid_area": null,
       "grid_auto_columns": null,
       "grid_auto_flow": null,
       "grid_auto_rows": null,
       "grid_column": null,
       "grid_gap": null,
       "grid_row": null,
       "grid_template_areas": null,
       "grid_template_columns": null,
       "grid_template_rows": null,
       "height": null,
       "justify_content": null,
       "justify_items": null,
       "left": null,
       "margin": null,
       "max_height": null,
       "max_width": null,
       "min_height": null,
       "min_width": null,
       "object_fit": null,
       "object_position": null,
       "order": null,
       "overflow": null,
       "overflow_x": null,
       "overflow_y": null,
       "padding": null,
       "right": null,
       "top": null,
       "visibility": null,
       "width": null
      }
     },
     "e10966bfc83e4c59a219ce0e13acff49": {
      "model_module": "@jupyter-widgets/controls",
      "model_module_version": "1.5.0",
      "model_name": "HBoxModel",
      "state": {
       "_dom_classes": [],
       "_model_module": "@jupyter-widgets/controls",
       "_model_module_version": "1.5.0",
       "_model_name": "HBoxModel",
       "_view_count": null,
       "_view_module": "@jupyter-widgets/controls",
       "_view_module_version": "1.5.0",
       "_view_name": "HBoxView",
       "box_style": "",
       "children": [
        "IPY_MODEL_a4b1296a10444035bed23d766a07a51e",
        "IPY_MODEL_295b1af9607d4d48be4be84b097cb765",
        "IPY_MODEL_848b9927d6a548069f1c40242b6941c8"
       ],
       "layout": "IPY_MODEL_f9cbbc50421f456fbef9aa464670ea80"
      }
     },
     "e6ec70240f784841a2e8bb7361de9b1d": {
      "model_module": "@jupyter-widgets/controls",
      "model_module_version": "1.5.0",
      "model_name": "ProgressStyleModel",
      "state": {
       "_model_module": "@jupyter-widgets/controls",
       "_model_module_version": "1.5.0",
       "_model_name": "ProgressStyleModel",
       "_view_count": null,
       "_view_module": "@jupyter-widgets/base",
       "_view_module_version": "1.2.0",
       "_view_name": "StyleView",
       "bar_color": null,
       "description_width": ""
      }
     },
     "e80e72df41cc4679a3441f26cbb690d4": {
      "model_module": "@jupyter-widgets/controls",
      "model_module_version": "1.5.0",
      "model_name": "ProgressStyleModel",
      "state": {
       "_model_module": "@jupyter-widgets/controls",
       "_model_module_version": "1.5.0",
       "_model_name": "ProgressStyleModel",
       "_view_count": null,
       "_view_module": "@jupyter-widgets/base",
       "_view_module_version": "1.2.0",
       "_view_name": "StyleView",
       "bar_color": null,
       "description_width": ""
      }
     },
     "e85dc7c8c45f484687f05152f64717ba": {
      "model_module": "@jupyter-widgets/base",
      "model_module_version": "1.2.0",
      "model_name": "LayoutModel",
      "state": {
       "_model_module": "@jupyter-widgets/base",
       "_model_module_version": "1.2.0",
       "_model_name": "LayoutModel",
       "_view_count": null,
       "_view_module": "@jupyter-widgets/base",
       "_view_module_version": "1.2.0",
       "_view_name": "LayoutView",
       "align_content": null,
       "align_items": null,
       "align_self": null,
       "border": null,
       "bottom": null,
       "display": null,
       "flex": null,
       "flex_flow": null,
       "grid_area": null,
       "grid_auto_columns": null,
       "grid_auto_flow": null,
       "grid_auto_rows": null,
       "grid_column": null,
       "grid_gap": null,
       "grid_row": null,
       "grid_template_areas": null,
       "grid_template_columns": null,
       "grid_template_rows": null,
       "height": null,
       "justify_content": null,
       "justify_items": null,
       "left": null,
       "margin": null,
       "max_height": null,
       "max_width": null,
       "min_height": null,
       "min_width": null,
       "object_fit": null,
       "object_position": null,
       "order": null,
       "overflow": null,
       "overflow_x": null,
       "overflow_y": null,
       "padding": null,
       "right": null,
       "top": null,
       "visibility": null,
       "width": null
      }
     },
     "f2ef6d800d234f83b92a69a01bee4c93": {
      "model_module": "@jupyter-widgets/controls",
      "model_module_version": "1.5.0",
      "model_name": "DescriptionStyleModel",
      "state": {
       "_model_module": "@jupyter-widgets/controls",
       "_model_module_version": "1.5.0",
       "_model_name": "DescriptionStyleModel",
       "_view_count": null,
       "_view_module": "@jupyter-widgets/base",
       "_view_module_version": "1.2.0",
       "_view_name": "StyleView",
       "description_width": ""
      }
     },
     "f4f635e0dd6749aa9208d5c7271afc30": {
      "model_module": "@jupyter-widgets/controls",
      "model_module_version": "1.5.0",
      "model_name": "HBoxModel",
      "state": {
       "_dom_classes": [],
       "_model_module": "@jupyter-widgets/controls",
       "_model_module_version": "1.5.0",
       "_model_name": "HBoxModel",
       "_view_count": null,
       "_view_module": "@jupyter-widgets/controls",
       "_view_module_version": "1.5.0",
       "_view_name": "HBoxView",
       "box_style": "",
       "children": [
        "IPY_MODEL_d0ce56d716e445b8bd75a41e73e7bef7",
        "IPY_MODEL_d9bc7d4a55f74e7db878f82eab41155a",
        "IPY_MODEL_cdc8c9768d924aceaf655cec84dec5d6"
       ],
       "layout": "IPY_MODEL_feebb0fb15c243ec95546326210c7afd"
      }
     },
     "f9cbbc50421f456fbef9aa464670ea80": {
      "model_module": "@jupyter-widgets/base",
      "model_module_version": "1.2.0",
      "model_name": "LayoutModel",
      "state": {
       "_model_module": "@jupyter-widgets/base",
       "_model_module_version": "1.2.0",
       "_model_name": "LayoutModel",
       "_view_count": null,
       "_view_module": "@jupyter-widgets/base",
       "_view_module_version": "1.2.0",
       "_view_name": "LayoutView",
       "align_content": null,
       "align_items": null,
       "align_self": null,
       "border": null,
       "bottom": null,
       "display": null,
       "flex": null,
       "flex_flow": null,
       "grid_area": null,
       "grid_auto_columns": null,
       "grid_auto_flow": null,
       "grid_auto_rows": null,
       "grid_column": null,
       "grid_gap": null,
       "grid_row": null,
       "grid_template_areas": null,
       "grid_template_columns": null,
       "grid_template_rows": null,
       "height": null,
       "justify_content": null,
       "justify_items": null,
       "left": null,
       "margin": null,
       "max_height": null,
       "max_width": null,
       "min_height": null,
       "min_width": null,
       "object_fit": null,
       "object_position": null,
       "order": null,
       "overflow": null,
       "overflow_x": null,
       "overflow_y": null,
       "padding": null,
       "right": null,
       "top": null,
       "visibility": null,
       "width": null
      }
     },
     "fc2291a52f5342339f0e0a1239fad6d8": {
      "model_module": "@jupyter-widgets/base",
      "model_module_version": "1.2.0",
      "model_name": "LayoutModel",
      "state": {
       "_model_module": "@jupyter-widgets/base",
       "_model_module_version": "1.2.0",
       "_model_name": "LayoutModel",
       "_view_count": null,
       "_view_module": "@jupyter-widgets/base",
       "_view_module_version": "1.2.0",
       "_view_name": "LayoutView",
       "align_content": null,
       "align_items": null,
       "align_self": null,
       "border": null,
       "bottom": null,
       "display": null,
       "flex": null,
       "flex_flow": null,
       "grid_area": null,
       "grid_auto_columns": null,
       "grid_auto_flow": null,
       "grid_auto_rows": null,
       "grid_column": null,
       "grid_gap": null,
       "grid_row": null,
       "grid_template_areas": null,
       "grid_template_columns": null,
       "grid_template_rows": null,
       "height": null,
       "justify_content": null,
       "justify_items": null,
       "left": null,
       "margin": null,
       "max_height": null,
       "max_width": null,
       "min_height": null,
       "min_width": null,
       "object_fit": null,
       "object_position": null,
       "order": null,
       "overflow": null,
       "overflow_x": null,
       "overflow_y": null,
       "padding": null,
       "right": null,
       "top": null,
       "visibility": null,
       "width": null
      }
     },
     "feebb0fb15c243ec95546326210c7afd": {
      "model_module": "@jupyter-widgets/base",
      "model_module_version": "1.2.0",
      "model_name": "LayoutModel",
      "state": {
       "_model_module": "@jupyter-widgets/base",
       "_model_module_version": "1.2.0",
       "_model_name": "LayoutModel",
       "_view_count": null,
       "_view_module": "@jupyter-widgets/base",
       "_view_module_version": "1.2.0",
       "_view_name": "LayoutView",
       "align_content": null,
       "align_items": null,
       "align_self": null,
       "border": null,
       "bottom": null,
       "display": null,
       "flex": null,
       "flex_flow": null,
       "grid_area": null,
       "grid_auto_columns": null,
       "grid_auto_flow": null,
       "grid_auto_rows": null,
       "grid_column": null,
       "grid_gap": null,
       "grid_row": null,
       "grid_template_areas": null,
       "grid_template_columns": null,
       "grid_template_rows": null,
       "height": null,
       "justify_content": null,
       "justify_items": null,
       "left": null,
       "margin": null,
       "max_height": null,
       "max_width": null,
       "min_height": null,
       "min_width": null,
       "object_fit": null,
       "object_position": null,
       "order": null,
       "overflow": null,
       "overflow_x": null,
       "overflow_y": null,
       "padding": null,
       "right": null,
       "top": null,
       "visibility": null,
       "width": null
      }
     },
     "ff1fce728c7a4ad593b6b4c4e9081549": {
      "model_module": "@jupyter-widgets/base",
      "model_module_version": "1.2.0",
      "model_name": "LayoutModel",
      "state": {
       "_model_module": "@jupyter-widgets/base",
       "_model_module_version": "1.2.0",
       "_model_name": "LayoutModel",
       "_view_count": null,
       "_view_module": "@jupyter-widgets/base",
       "_view_module_version": "1.2.0",
       "_view_name": "LayoutView",
       "align_content": null,
       "align_items": null,
       "align_self": null,
       "border": null,
       "bottom": null,
       "display": null,
       "flex": null,
       "flex_flow": null,
       "grid_area": null,
       "grid_auto_columns": null,
       "grid_auto_flow": null,
       "grid_auto_rows": null,
       "grid_column": null,
       "grid_gap": null,
       "grid_row": null,
       "grid_template_areas": null,
       "grid_template_columns": null,
       "grid_template_rows": null,
       "height": null,
       "justify_content": null,
       "justify_items": null,
       "left": null,
       "margin": null,
       "max_height": null,
       "max_width": null,
       "min_height": null,
       "min_width": null,
       "object_fit": null,
       "object_position": null,
       "order": null,
       "overflow": null,
       "overflow_x": null,
       "overflow_y": null,
       "padding": null,
       "right": null,
       "top": null,
       "visibility": null,
       "width": null
      }
     }
    },
    "version_major": 2,
    "version_minor": 0
   }
  }
 },
 "nbformat": 4,
 "nbformat_minor": 5
}
